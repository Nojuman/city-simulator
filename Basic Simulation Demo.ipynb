{
 "cells": [
  {
   "cell_type": "code",
   "execution_count": 1,
   "metadata": {
    "collapsed": false,
    "deletable": true,
    "editable": true
   },
   "outputs": [],
   "source": [
    "from matplotlib import pyplot as plt\n",
    "from skimage import morphology\n",
    "from scipy.spatial import distance_matrix\n",
    "import numpy as np\n",
    "from itertools import product\n",
    "from scipy.ndimage.morphology import distance_transform_cdt\n",
    "from urban_growth.simulator import *\n",
    "%matplotlib inline"
   ]
  },
  {
   "cell_type": "code",
   "execution_count": 9,
   "metadata": {
    "collapsed": false,
    "deletable": true,
    "editable": true
   },
   "outputs": [],
   "source": [
    "# Params\n",
    "\n",
    "## Initial Configuration\n",
    "L = 100\n",
    "rho = .44\n",
    "blur = 2\n",
    "\n",
    "## Rural/Urban Size Threshold\n",
    "T = 50\n",
    "\n",
    "## Dynamical Parameters, not assuming that these are good ones. \n",
    "\n",
    "truncation = None\n",
    "\n",
    "pars = {'gamma_r' : 1.5,     # rural settlement more diffuse than urban\n",
    "        'gamma_u' : 3.0,      \n",
    "        'alpha_r' : 20.0,       \n",
    "        'alpha_u' : 20.0,\n",
    "        'beta_r'  : -10.0,      # low background rates\n",
    "        'beta_u'  : -10.0,\n",
    "        'truncation' : truncation}\n",
    "\n",
    "geo = np.ones((L, L))\n",
    "\n",
    "for i in np.arange(0, L):\n",
    "    geo[:,i] = 1.0*i / L "
   ]
  },
  {
   "cell_type": "markdown",
   "metadata": {
    "deletable": true,
    "editable": true
   },
   "source": [
    "# Initialize the Model"
   ]
  },
  {
   "cell_type": "code",
   "execution_count": 10,
   "metadata": {
    "collapsed": false,
    "deletable": true,
    "editable": true
   },
   "outputs": [],
   "source": [
    "m = simulator(geo = geo)\n",
    "m.set_M0(L = L, density = rho, blur = blur)"
   ]
  },
  {
   "cell_type": "markdown",
   "metadata": {
    "deletable": true,
    "editable": true
   },
   "source": [
    "# Classify Existing Settlements"
   ]
  },
  {
   "cell_type": "code",
   "execution_count": 11,
   "metadata": {
    "collapsed": false,
    "deletable": true,
    "editable": true
   },
   "outputs": [
    {
     "data": {
      "text/plain": [
       "<matplotlib.text.Text at 0x11380b210>"
      ]
     },
     "execution_count": 11,
     "metadata": {},
     "output_type": "execute_result"
    },
    {
     "data": {
      "image/png": "[encoded data removed]",
      "text/plain": [
       "<matplotlib.figure.Figure at 0x10c7fe050>"
      ]
     },
     "metadata": {},
     "output_type": "display_data"
    }
   ],
   "source": [
    "fig = plt.figure(figsize = (10, 4))\n",
    "\n",
    "ax1 = fig.add_subplot(121)\n",
    "ax1.imshow(m.get_M0(), interpolation = 'nearest', cmap = 'Greys')\n",
    "plt.title('Raw')\n",
    "\n",
    "ax2 = fig.add_subplot(122)\n",
    "ax2.imshow(m.settlement_type_matrix(T), interpolation = 'nearest', cmap = 'RdYlBu')\n",
    "plt.title('Classified')"
   ]
  },
  {
   "cell_type": "markdown",
   "metadata": {
    "deletable": true,
    "editable": true
   },
   "source": [
    "# Probability Density for New Settlements\n",
    "\n",
    "The code below computes settlement probabilities across all unoccupied sites under the parameters specified above. It is thus the foundation of the \"forward\" step. White areas are already settled. Warmer colors indicate higher likelihood to be settled. The plots below are made using Phil's revision of Ema's model (i.e. the logistic-based \"Model 1\"), as this is faster to compute. \n",
    "\n",
    "Note that this computation is a bit costly in terms of storing the distances: for $L = 200$ ($N = L^2 = 40,000$ pixels), it takes about ~30 seconds on Phil's personal machine. "
   ]
  },
  {
   "cell_type": "code",
   "execution_count": null,
   "metadata": {
    "collapsed": false,
    "deletable": true,
    "editable": true
   },
   "outputs": [],
   "source": [
    "n_iters = 5\n",
    "\n",
    "density_pars = {'thresh'     : T,\n",
    "                'pars'       : pars,\n",
    "                'model'      : model_1,\n",
    "                'use_geo'    : True,\n",
    "                'truncation' : truncation}\n",
    "\n",
    "densities = m.density(**density_pars)\n",
    "M = m.dynamics(n_iters = n_iters, **density_pars)"
   ]
  },
  {
   "cell_type": "markdown",
   "metadata": {
    "deletable": true,
    "editable": true
   },
   "source": [
    "Now let's take a look at the model structure. In the first three plots below, we visualize the probability of settlement in the next time step divided out according to rural, urban, and total settlement probabilities. \n",
    "\n",
    "In the final plot, we visualize the growth of the system over multiple time steps, and use the color to keep track of when each settlement arose. \n",
    "\n",
    "There is a linearly decreasing east-west geographic mask that discourages settlement the farther west you go. "
   ]
  },
  {
   "cell_type": "code",
   "execution_count": null,
   "metadata": {
    "collapsed": false,
    "deletable": true,
    "editable": true
   },
   "outputs": [],
   "source": [
    "density_pars = {'vmin'         : 0,\n",
    "                'vmax'         : 1,\n",
    "               'interpolation' : 'nearest',\n",
    "               'cmap'          : 'viridis'}\n",
    "\n",
    "fig = plt.figure(figsize = (10, 8))\n",
    "ax1 = fig.add_subplot(221)\n",
    "im = ax1.imshow(densities[0], **density_pars)\n",
    "plt.colorbar(im)\n",
    "plt.title('Initial Rural Settlement Probability')\n",
    "\n",
    "ax2 = fig.add_subplot(222)\n",
    "im = ax2.imshow(densities[1],**density_pars)\n",
    "plt.colorbar(im)\n",
    "plt.title('Initial Urban Settlement Probability')\n",
    "\n",
    "\n",
    "ax3 = fig.add_subplot(223)\n",
    "im = ax3.imshow(densities[0] + densities[1], **density_pars)\n",
    "plt.colorbar(im)\n",
    "plt.title('Initial Settlement Probability')\n",
    "\n",
    "\n",
    "ax4 = fig.add_subplot(224)\n",
    "im = ax4.imshow(M, interpolation = 'nearest')\n",
    "plt.colorbar(im)\n",
    "\n",
    "plt.title('Growth over Ten Time Steps')"
   ]
  },
  {
   "cell_type": "markdown",
   "metadata": {
    "deletable": true,
    "editable": true
   },
   "source": [
    "Let's compare that last plot to another run with highly localized growth."
   ]
  },
  {
   "cell_type": "code",
   "execution_count": null,
   "metadata": {
    "collapsed": false,
    "deletable": true,
    "editable": true
   },
   "outputs": [],
   "source": [
    "pars = {'gamma_r' :  2.0,     # rural settlement more diffuse than urban\n",
    "        'gamma_u' :  3.0,      \n",
    "        'alpha_r' :  20.0,       \n",
    "        'alpha_u' :  20.0,\n",
    "        'beta_r'  : -10.0,   # low background rates\n",
    "        'beta_u'  : -10.0, \n",
    "        'truncation' : truncation}\n",
    "\n",
    "m2 = simulator(geo = geo)\n",
    "m2.set_M0(M0 = m.get_M0())\n",
    "\n",
    "density_pars = {'thresh' : T,\n",
    "                'pars'   : pars,\n",
    "                'model'  : model_1,\n",
    "                'use_geo' : True,\n",
    "                'truncation' : truncation}\n",
    "\n",
    "M2 = m2.dynamics(n_iters = n_iters, **density_pars)"
   ]
  },
  {
   "cell_type": "code",
   "execution_count": null,
   "metadata": {
    "collapsed": false,
    "deletable": true,
    "editable": true
   },
   "outputs": [],
   "source": [
    "fig = plt.figure(figsize = (10, 4))\n",
    "\n",
    "ax1 = fig.add_subplot(121)\n",
    "im = ax1.imshow(M, interpolation = 'nearest')\n",
    "plt.colorbar(im)\n",
    "plt.title('Less Localized')\n",
    "\n",
    "ax2 = fig.add_subplot(122)\n",
    "im = ax2.imshow(M2, interpolation = 'nearest')\n",
    "plt.colorbar(im)\n",
    "plt.title('More Localized')"
   ]
  },
  {
   "cell_type": "code",
   "execution_count": null,
   "metadata": {
    "collapsed": true
   },
   "outputs": [],
   "source": []
  }
 ],
 "metadata": {
  "kernelspec": {
   "display_name": "Python 2",
   "language": "python",
   "name": "python2"
  },
  "language_info": {
   "codemirror_mode": {
    "name": "ipython",
    "version": 2
   },
   "file_extension": ".py",
   "mimetype": "text/x-python",
   "name": "python",
   "nbconvert_exporter": "python",
   "pygments_lexer": "ipython2",
   "version": "2.7.11"
  }
 },
 "nbformat": 4,
 "nbformat_minor": 0
}
