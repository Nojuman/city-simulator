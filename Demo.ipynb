{
 "cells": [
  {
   "cell_type": "markdown",
   "metadata": {},
   "source": [
    "# Introduction\n",
    "\n",
    "## Ema's Original Formulation\n",
    "\n",
    "Schematically, Ema's idea is to model the probability of a new pixel being settled, conditional on the initial settlement pattern, as \n",
    "\n",
    "$$p_i = \\sum_j a_{ij} p_j(i; \\theta)\\;,$$\n",
    "\n",
    "where $a_{ij}$ is the probability that pixel $i$ is of \"type\" $j$ (e.g. $j \\in \\{\\text{urban, rural}\\})$, and $p_j(i; \\theta)$ is the probability of type-$j$ settlement given the initial settlement pattern and some parameters $\\theta$. \n",
    "\n",
    "Ema's original form of this model is to take $a_{ij} = \\alpha_j$ to be a parameter that is constant for all pixels $i$, and and to take $p_j(i; \\theta$ to have the form \n",
    "\n",
    "$$ p_j(i; \\theta) = \\frac{\\sum_{k \\in \\mathcal{W}_j} d_{ik}^{-\\gamma}}{\\sum_{k \\in \\mathcal{W}} d_{ik}^{-\\gamma}}\\;.$$ \n",
    "\n",
    "In this expression, $\\mathcal{W}$ is the entire map and $\\mathcal{W}_j$ is the set of all settled pixels of type $j$. $\\mathcal{W}_j$ is determined according to a size-based thresholding, so, for example, clusters of certain size are considered to be urban. \n",
    "\n",
    "## A Small Modification\n",
    "\n",
    "The modification I suggest to Ema's original formulation is pretty simple: we add a parameter and pass the first expression through a logistic sigmoid function: \n",
    "\n",
    "$$p_i = \\sigma\\left(\\sum_j a_{ij} p_j(i; \\theta) + \\beta\\right)\\;,$$\n",
    "\n",
    "where $\\sigma(x) = (1 + e^{-x})^{-1}$. This model turns out to have considerably richer behavior (i.e. we \"get our money's worth\" for the extra parameter $\\beta$), and has parameters that are easier to estimate. It mainly does this by avoiding mathematical difficulties in Ema's original formulation; for example, unlike the very first expression, the modified one is always a correctly normalized probability. \n",
    "\n",
    "## The Method\n",
    "\n",
    "I had previously been convinced that the correct way to model the settlement phenomena would be using latent-variable methods, in which case we could apply nice alternating-projection algorithms to the problem. However, the most performant approach so far has been the \"dumb\" approach associated with performing simple maximum-likelihood estimation using a Python solver. \n",
    "\n",
    "Let's see a quick demonstration of the method. What we're going to do is:\n",
    "\n",
    "1. Construct an initial map. \n",
    "2. Simulate one time-step of the evolution based on some known parameters. \n",
    "3. Treat this simulation as \"data\" and attempt to learn what the parameters were. \n",
    "\n",
    "As we'll see, this framework is fairly successful at this task. This is important: if it weren't, the parameters wouldn't be \"identifiable,\" and the problem of parameter estimation would be impossible under this model. \n",
    "\n",
    "Let's see this in action! \n",
    "\n",
    "# Demo"
   ]
  },
  {
   "cell_type": "markdown",
   "metadata": {},
   "source": [
    "The code for the `urban_growth.simulator` and `urban_growth.estimator` classes is located in the same GitHub repo. "
   ]
  },
  {
   "cell_type": "code",
   "execution_count": 1,
   "metadata": {
    "collapsed": false,
    "deletable": true,
    "editable": true
   },
   "outputs": [],
   "source": [
    "from urban_growth.simulator import *\n",
    "from urban_growth.estimator import *\n",
    "import numpy as np\n",
    "\n",
    "from matplotlib import pyplot as plt\n",
    "%matplotlib inline"
   ]
  },
  {
   "cell_type": "markdown",
   "metadata": {
    "deletable": true,
    "editable": true
   },
   "source": [
    "## Set Parameters\n",
    "\n",
    "We have parameters for: the initial map configuration, the model type, the size threshold determining the rural/urban distinction, and the $\\alpha$, $\\beta$, and $\\gamma$ above. We also have a geographic mask that makes some areas harder to settle than others. In this example, the geographic mask discourages settlement on the west and encourages settlement in the east. "
   ]
  },
  {
   "cell_type": "code",
   "execution_count": 16,
   "metadata": {
    "collapsed": false,
    "deletable": true,
    "editable": true
   },
   "outputs": [],
   "source": [
    "# Initial Configuration. \n",
    "L = 200\n",
    "rho = .47\n",
    "blur = 3\n",
    "\n",
    "# model type\n",
    "model = 'logistic'\n",
    "\n",
    "# rural-to-urban threshold\n",
    "T_vec = [100]\n",
    "\n",
    "# dynamical parameters\n",
    "pars = {'alpha' : np.array([140, 60]),\n",
    "        'gamma' : np.array([1.0, 2.8]),\n",
    "        'beta' : np.array([-10])\n",
    "       }\n",
    "\n",
    "# geographic mask\n",
    "geo = np.ones((L, L))\n",
    "\n",
    "for i in np.arange(0, L):\n",
    "    geo[:,i] = 1.0*i / L "
   ]
  },
  {
   "cell_type": "markdown",
   "metadata": {},
   "source": [
    "Now we'll create a random matrix to be our initial condition, construct a `simulator` object based on that matrix, and then run the dynamics for one time-step. In the plot below, white spots are old settlements, pink spots are new settlements, and blue spots are unsettled. "
   ]
  },
  {
   "cell_type": "code",
   "execution_count": 17,
   "metadata": {
    "collapsed": false,
    "deletable": true,
    "editable": true
   },
   "outputs": [
    {
     "data": {
      "text/plain": [
       "<matplotlib.text.Text at 0x106c71fd0>"
      ]
     },
     "execution_count": 17,
     "metadata": {},
     "output_type": "execute_result"
    },
    {
     "data": {
      "image/png": "[encoded data removed]",
      "text/plain": [
       "<matplotlib.figure.Figure at 0x106e1f950>"
      ]
     },
     "metadata": {},
     "output_type": "display_data"
    }
   ],
   "source": [
    "M0 = random_mat(L, rho, blur = blur)\n",
    "m = simulator(M0 = M0, geo = geo, model = model)\n",
    "\n",
    "M1 = m.dynamics(T_vec = T_vec,\n",
    "                n_iters = 1, \n",
    "                verbose = False,  \n",
    "                **pars)\n",
    "\n",
    "X = M1 - m.M0\n",
    "X[m.M0 == 1] = np.nan\n",
    "im = plt.imshow(X, interpolation = 'nearest', cmap = 'cool')\n",
    "plt.title('\"Data\" for Inference Experiment')"
   ]
  },
  {
   "cell_type": "markdown",
   "metadata": {
    "deletable": true,
    "editable": true
   },
   "source": [
    "## Estimation\n",
    "\n",
    "Now we'll initialize an estimator and prepare it for the estimation task: "
   ]
  },
  {
   "cell_type": "code",
   "execution_count": 18,
   "metadata": {
    "collapsed": true,
    "deletable": true,
    "editable": true
   },
   "outputs": [],
   "source": [
    "e = estimator(M0 = M0, geo = geo, model = model)\n",
    "e.update_morphology()\n",
    "e.partition_clusters(T_vec)\n",
    "e.make_dist_array(trunc = 50)"
   ]
  },
  {
   "cell_type": "markdown",
   "metadata": {},
   "source": [
    "The log-likelihood of the data under the true parameters is an important quantity: if the log-likelihood optimization step below achieves a similar likelihood and reasonable parameters, then that's indication that we've achieved a \"good\" result. "
   ]
  },
  {
   "cell_type": "code",
   "execution_count": 19,
   "metadata": {
    "collapsed": false,
    "deletable": true,
    "editable": true
   },
   "outputs": [
    {
     "data": {
      "text/plain": [
       "-0.13297022207242432"
      ]
     },
     "execution_count": 19,
     "metadata": {},
     "output_type": "execute_result"
    }
   ],
   "source": [
    "e.logistic_log_likelihood(X, \n",
    "                          normalized = True, \n",
    "                          use_grad = False, \n",
    "                          **pars)"
   ]
  },
  {
   "cell_type": "markdown",
   "metadata": {},
   "source": [
    "Now we'll conduct estimation. I've initialized the model with some parameters that are intended to be \"not too crazy\" but also deliberately quite different from the true parameters. For example, the $\\alpha$s have switched in relative size, as have the $\\gamma$s. "
   ]
  },
  {
   "cell_type": "code",
   "execution_count": 20,
   "metadata": {
    "collapsed": false,
    "deletable": true,
    "editable": true
   },
   "outputs": [
    {
     "name": "stdout",
     "output_type": "stream",
     "text": [
      "-0.132883523753\n"
     ]
    },
    {
     "name": "stderr",
     "output_type": "stream",
     "text": [
      "urban_growth/components.py:60: RuntimeWarning: overflow encountered in multiply\n",
      "  d_gamma = np.expand_dims(np.expand_dims(alpha, 1), 2) * (df * norm - dnorm * f) / norm ** 2\n",
      "urban_growth/components.py:60: RuntimeWarning: invalid value encountered in subtract\n",
      "  d_gamma = np.expand_dims(np.expand_dims(alpha, 1), 2) * (df * norm - dnorm * f) / norm ** 2\n",
      "urban_growth/components.py:60: RuntimeWarning: overflow encountered in square\n",
      "  d_gamma = np.expand_dims(np.expand_dims(alpha, 1), 2) * (df * norm - dnorm * f) / norm ** 2\n"
     ]
    }
   ],
   "source": [
    "pars_0 = {'alpha' : np.array([50, 80]),\n",
    "          'gamma' : np.array([3.5, 2.8]), \n",
    "          'beta'  : np.array([-2])\n",
    "       }\n",
    "\n",
    "pars_hat, ll_hat, h_inv = e.logistic_ML(X, \n",
    "                                        pars_0, \n",
    "                                        use_grad = True, \n",
    "                                        opts = {'disp' : False})\n",
    "print ll_hat"
   ]
  },
  {
   "cell_type": "markdown",
   "metadata": {},
   "source": [
    "The optimal function value is close to the true data, log-likelihood, which is quite encouraging. Let's compare parameters: "
   ]
  },
  {
   "cell_type": "code",
   "execution_count": 25,
   "metadata": {
    "collapsed": false,
    "deletable": true,
    "editable": true
   },
   "outputs": [
    {
     "name": "stdout",
     "output_type": "stream",
     "text": [
      "True alpha: [140  60] || Estimated: [ 139.3518   58.1132]\n",
      "True alpha: [ 1.   2.8] || Estimated: [ 0.98    2.7461]\n",
      "True alpha: [-10] || Estimated: -10.0050936332\n"
     ]
    }
   ],
   "source": [
    "np.set_printoptions(precision=4)\n",
    "\n",
    "print \"True alpha: \" + str(pars['alpha']) + ' || Estimated: ' + str(pars_hat[0:2])\n",
    "print \"True alpha: \" + str(pars['gamma']) + ' || Estimated: ' + str(pars_hat[2:4])\n",
    "print \"True alpha: \" + str(pars['beta']) + ' || Estimated: ' + str(pars_hat[4])"
   ]
  },
  {
   "cell_type": "markdown",
   "metadata": {},
   "source": [
    "Overall, we've come quite close to the true parameters, despite the somewhat deceptive beginning.  \n",
    "\n",
    "## Estimate Precision\n",
    "\n",
    "How confident are we in our estimates based on the data? We can get a sense for this based on the inverse Hessian of the log-likelihood, conveniently returned by our maximum-likelihood routine. We can use this to get approximate confidence intervals for the parameters. Note that I am ignoring the parameter covariances, which we ought to treat in the full paper. "
   ]
  },
  {
   "cell_type": "code",
   "execution_count": 22,
   "metadata": {
    "collapsed": false
   },
   "outputs": [
    {
     "name": "stdout",
     "output_type": "stream",
     "text": [
      "True param within 95% confidence interval\n",
      "True param within 95% confidence interval\n",
      "True param within 95% confidence interval\n",
      "True param within 95% confidence interval\n",
      "True param within 95% confidence interval\n"
     ]
    }
   ],
   "source": [
    "sigma = np.sqrt(np.diag(h_inv) / np.nansum(np.isfinite(X)))\n",
    "\n",
    "upper = pars_hat + 2 * sigma\n",
    "v = np.concatenate((pars['alpha'], pars['gamma'], pars['beta']))\n",
    "lower = pars_hat - 2 * sigma\n",
    "\n",
    "for j in range(v.shape[0]):\n",
    "    if lower[j] < v[j] < upper[j]:\n",
    "        print \"True param within 95% confidence interval\"\n",
    "    else:\n",
    "        print \"True param NOT within 95% confidence interval\"\n",
    "            "
   ]
  },
  {
   "cell_type": "markdown",
   "metadata": {},
   "source": [
    "Here's a quick view of the true parameters and estimates: the true parameters are the middle row; the upper bounds of the confidence intervals are on top and the lower bounds on the bottom. "
   ]
  },
  {
   "cell_type": "code",
   "execution_count": 26,
   "metadata": {
    "collapsed": false
   },
   "outputs": [
    {
     "name": "stdout",
     "output_type": "stream",
     "text": [
      "[[ 148.6193   62.5111    1.0239    2.8363   -9.4955]\n",
      " [ 140.       60.        1.        2.8     -10.    ]\n",
      " [ 130.0843   53.7154    0.936     2.6559  -10.5147]]\n"
     ]
    }
   ],
   "source": [
    "print np.concatenate((upper[np.newaxis,], \n",
    "                      v[np.newaxis,], \n",
    "                      lower[np.newaxis,]), axis = 0)"
   ]
  },
  {
   "cell_type": "markdown",
   "metadata": {},
   "source": [
    "Not too bad! Of course, this is fake data generated under a known model, so when we analyze real data it almost surely will not be this clean. \n",
    "\n",
    "# Existing Challenges, Questions\n",
    "\n",
    "## Challenges\n",
    "\n",
    "- **Distance Computations**: The main challenge computationally for this scheme is distance computations, which are very expensive for large grids. Ema wants to run this for $500 \\times 500$ grids, which is too large for my laptop but might run on the server. I am still thinking about ways to handle this practically. \n",
    "\n",
    "## Questions\n",
    "\n",
    "- How does the parameter estimation fit into the main argument of the project? \n",
    "- Sequential estimation? Should do estimation on multiple time-slices of the same city and test for stability in the estimates? \n",
    "- Determining the urban/rural size-threshold. How should we do this? A simple but somewhat slow approach is to do the above for each possible value of the threshold and then choose the the one with the best maximum likelihood, but there may well be more subtle approaches. \n",
    "- How could we begin to think about \"drilling down\" with more flexible models? Could $\\gamma$ vary over the region? "
   ]
  }
 ],
 "metadata": {
  "kernelspec": {
   "display_name": "Python 2",
   "language": "python",
   "name": "python2"
  },
  "language_info": {
   "codemirror_mode": {
    "name": "ipython",
    "version": 2
   },
   "file_extension": ".py",
   "mimetype": "text/x-python",
   "name": "python",
   "nbconvert_exporter": "python",
   "pygments_lexer": "ipython2",
   "version": "2.7.11"
  }
 },
 "nbformat": 4,
 "nbformat_minor": 0
}
