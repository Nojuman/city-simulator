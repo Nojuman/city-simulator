{
 "cells": [
  {
   "cell_type": "markdown",
   "metadata": {},
   "source": [
    "# Distance Approximation"
   ]
  },
  {
   "cell_type": "markdown",
   "metadata": {},
   "source": [
    "The original model of Rybski et al. requires the computation of the sum \n",
    "\n",
    "$$ \\sum_{j} d_{ij}^{-\\gamma} $$\n",
    "\n",
    "for each location $i$, requiring the storage of the matrix $D = [d_{ij}]$ of distances. The size of the matrix $D$ scales badly with the simulation size. The matrix for a grid of side-length $L = 300$, for example, is $L^2 \\times L^2 = 90,000 \\times 90,000$, which is too large to fit into most laptops. \n",
    "\n",
    "In this notebook, we describe and test an approximation scheme that makes the computation of the complete set of weights tractable up to $L = 300$ or so on a laptop, and likely up to $L = 400$ on a larger machine with more RAM. "
   ]
  },
  {
   "cell_type": "markdown",
   "metadata": {},
   "source": [
    "# Initialize the Model"
   ]
  },
  {
   "cell_type": "code",
   "execution_count": 1,
   "metadata": {
    "collapsed": false,
    "deletable": true,
    "editable": true
   },
   "outputs": [],
   "source": [
    "from urban_growth.model_refactor import *\n",
    "from matplotlib import pyplot as plt\n",
    "from scipy.ndimage.morphology import distance_transform_edt\n",
    "from scipy.spatial import distance\n",
    "import cProfile\n",
    "%matplotlib inline"
   ]
  },
  {
   "cell_type": "code",
   "execution_count": 2,
   "metadata": {
    "collapsed": false,
    "deletable": true,
    "editable": true
   },
   "outputs": [
    {
     "data": {
      "text/plain": [
       "<matplotlib.image.AxesImage at 0x107284350>"
      ]
     },
     "execution_count": 2,
     "metadata": {},
     "output_type": "execute_result"
    },
    {
     "data": {
      "image/png": "[encoded data removed]",
      "text/plain": [
       "<matplotlib.figure.Figure at 0x102934cd0>"
      ]
     },
     "metadata": {},
     "output_type": "display_data"
    }
   ],
   "source": [
    "# Initial Configuration\n",
    "L = 300\n",
    "rho = .46\n",
    "blur = 2\n",
    "\n",
    "# Create the initial matrix and initialize a settlement_model object\n",
    "M0 = random_mat(L, rho, blur = blur)\n",
    "m = settlement_model(M0 = M0)\n",
    "\n",
    "# Visualize the initial condition\n",
    "plt.imshow(m.M0, interpolation = 'nearest', cmap = 'Greys')"
   ]
  },
  {
   "cell_type": "markdown",
   "metadata": {
    "deletable": true,
    "editable": true
   },
   "source": [
    "# Outline of the Approximation"
   ]
  },
  {
   "cell_type": "markdown",
   "metadata": {
    "deletable": true,
    "editable": true
   },
   "source": [
    "The aim here is to construct an approximation of the weighted distance summation calculation. The scheme works by considering each cluster $C$ separately. We aim to approximate the analytical Rybski sum for a specific point $i$ and cluster $C$, which is\n",
    "\n",
    "$$ f(i,C) = \\sum_{j \\in C} d_{ij}^{-\\gamma} \\;.$$ \n",
    "\n",
    "We first compute the distance $r_0(i,C)$ of point $i$ to the nearest point in $C$, using the  `distance_transform_edt` function provided by `scipy.ndimage.morphology`. We then additionally compute the area $A(C)$ of cluster $C$.  \n",
    "\n",
    "By approximating the cluster as a section of an annulus with inner radius $r_0(i,c)$, we can derive an analytical approximation of the Rybski sum as follows. First, under this approximation the area satisfies \n",
    "\n",
    "$$ A(C) = (r_1(i, C)^2 - r_0(i, c)^2) \\theta(i,C) \\;, $$\n",
    "\n",
    "where $\\theta(i,C)$ is the angle of the section and $r_1(i,C)$ the outer radius. We want to use this expression to solve for $r_1(i,C)$ and $\\theta(i,C)$. To do this, we make the assumption that the annulus is \"squarish:\" specifically, that the inner circular side length is equal to the linear side-length. This entails $r_1(i,C) - r_0(i,C) \\approx r_0(i,C) \\theta(i,C)$, or \n",
    "\n",
    "$$\\theta(i,C) \\approx \\frac{r_1(i,C) - r_0(i,C)}{r_0(i,C)}\\;.$$\n",
    "\n",
    "From this we can substitute for $\\theta(i,C)$, obtaining that $r_1(i,C)$ is the largest positive real root of the cubic equation \n",
    "\n",
    "$$x^3 - r_0(i,C) x^2 - r_0(i,C)^2 x + r_0(i,C)^3 - A(C)r_0(i,C) = 0\\;.$$\n",
    "\n",
    "Finally, we obtain our approximation for the Rybski sum as:\n",
    "\n",
    "$$f(i,C) = \\sum_{j \\in C} d_{ij}^{-\\gamma} \\approx \\theta(i,C) \\int_{r_0(i,C)}^{r_1(i,C)} r^{1-\\gamma} \\; dr = \\theta(i,C) \\frac{r_0(i,C)^{2 - \\gamma} - r_1(i,C)^{2-\\gamma}}{\\gamma - 2} \\;.$$"
   ]
  },
  {
   "cell_type": "markdown",
   "metadata": {},
   "source": [
    "# An Informal Test"
   ]
  },
  {
   "cell_type": "markdown",
   "metadata": {},
   "source": [
    "What we're going to do is to compute a bunch of analytic Rybski sums and a bunch of approximations above, and then plot them against each other. If they lie roughly on the line of equality, we are in good shape!"
   ]
  },
  {
   "cell_type": "code",
   "execution_count": 3,
   "metadata": {
    "collapsed": false
   },
   "outputs": [
    {
     "name": "stderr",
     "output_type": "stream",
     "text": [
      "urban_growth/helpers.py:32: RuntimeWarning: invalid value encountered in divide\n",
      "  x = - 1 / (3.0 * a) * (b + C1 + d0 / C1)\n"
     ]
    }
   ],
   "source": [
    "m.edt()\n",
    "m.distance_variables() # only need to do this once (per simulation iteration)"
   ]
  },
  {
   "cell_type": "code",
   "execution_count": 4,
   "metadata": {
    "collapsed": false
   },
   "outputs": [],
   "source": [
    "def test_suite(gamma, n_iters):\n",
    "    feature = m.distance_feature(gamma)\n",
    "    \n",
    "    def do_test():\n",
    "        C_ix = np.random.choice(range(len(m.clusters))) + 1\n",
    "        x    = np.random.choice(range(len(m.unsettled)))\n",
    "\n",
    "        C = m.clusters[C_ix]\n",
    "        x = m.unsettled[x]\n",
    "\n",
    "        dists = distance.cdist(np.array([x]), C)\n",
    "        true_sum = (dists ** ( - gamma)).sum()\n",
    "\n",
    "        approx = feature[C_ix - 1][tuple(x)]\n",
    "        return np.array([true_sum, approx])\n",
    "    \n",
    "    return np.array([do_test() for i in np.arange(n_iters)])"
   ]
  },
  {
   "cell_type": "code",
   "execution_count": 5,
   "metadata": {
    "collapsed": false
   },
   "outputs": [
    {
     "name": "stderr",
     "output_type": "stream",
     "text": [
      "urban_growth/helpers.py:36: RuntimeWarning: divide by zero encountered in power\n",
      "  return 2 * theta * (r_0 ** (2.0 - gamma) - r_1 ** (2.0 - gamma)) / (gamma - 2.0)\n",
      "urban_growth/helpers.py:36: RuntimeWarning: divide by zero encountered in reciprocal\n",
      "  return 2 * theta * (r_0 ** (2.0 - gamma) - r_1 ** (2.0 - gamma)) / (gamma - 2.0)\n"
     ]
    },
    {
     "data": {
      "image/png": "[encoded data removed]",
      "text/plain": [
       "<matplotlib.figure.Figure at 0x107003850>"
      ]
     },
     "metadata": {},
     "output_type": "display_data"
    }
   ],
   "source": [
    "import matplotlib.cm as cmx\n",
    "fig = plt.figure()\n",
    "ax = fig.add_subplot(111)\n",
    "\n",
    "ax.plot([10**(-6), 20], [10**(-6), 20], color = 'grey')\n",
    "\n",
    "for gamma in [2.1, 2.5, 3.0, 3.5]:\n",
    "    x = test_suite(gamma, 100)\n",
    "\n",
    "    ax.scatter(list(x[:,0]), \n",
    "               list(x[:,1]), \n",
    "               label = r'$\\gamma = $' + str(gamma), \n",
    "               color = cmx.jet((gamma - 2.1) / 1.4))\n",
    "\n",
    "ax.legend(loc = 4)\n",
    "plt.title('Log-Log Comparison of Exact and Approximate Distance Feature Values')\n",
    "\n",
    "opts = ax.set(xlabel = 'True', \n",
    "       ylabel = 'Approximate', \n",
    "       xlim = (10**(-6),20), \n",
    "       ylim = (10**(-6), 20),\n",
    "       xscale = 'log',\n",
    "       yscale = 'log')"
   ]
  },
  {
   "cell_type": "markdown",
   "metadata": {},
   "source": [
    "Looks pretty good! "
   ]
  }
 ],
 "metadata": {
  "kernelspec": {
   "display_name": "Python 2",
   "language": "python",
   "name": "python2"
  },
  "language_info": {
   "codemirror_mode": {
    "name": "ipython",
    "version": 2
   },
   "file_extension": ".py",
   "mimetype": "text/x-python",
   "name": "python",
   "nbconvert_exporter": "python",
   "pygments_lexer": "ipython2",
   "version": "2.7.11"
  }
 },
 "nbformat": 4,
 "nbformat_minor": 0
}
