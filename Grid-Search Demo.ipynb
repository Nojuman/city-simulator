{
 "cells": [
  {
   "cell_type": "markdown",
   "metadata": {
    "deletable": true,
    "editable": true
   },
   "source": [
    "# Introduction\n",
    "\n",
    "## Ema's Original Formulation\n",
    "\n",
    "Schematically, Ema's idea is to model the probability of a new pixel being settled, conditional on the initial settlement pattern, as \n",
    "\n",
    "$$p_i = \\sum_j a_{ij} p_j(i; \\theta)\\;,$$\n",
    "\n",
    "where $a_{ij}$ is the probability that pixel $i$ is of \"type\" $j$ (e.g. $j \\in \\{\\text{urban, rural}\\})$, and $p_j(i; \\theta)$ is the probability of type-$j$ settlement given the initial settlement pattern and some parameters $\\theta$. \n",
    "\n",
    "Ema's original form of this model is to take $a_{ij} = \\alpha_j$ to be a parameter that is constant for all pixels $i$, and and to take $p_j(i; \\theta$ to have the form \n",
    "\n",
    "$$ p_j(i; \\theta) = \\frac{\\sum_{k \\in \\mathcal{W}_j} d_{ik}^{-\\gamma}}{\\sum_{k \\in \\mathcal{W}} d_{ik}^{-\\gamma}}\\;.$$ \n",
    "\n",
    "In this expression, $\\mathcal{W}$ is the entire map and $\\mathcal{W}_j$ is the set of all settled pixels of type $j$. $\\mathcal{W}_j$ is determined according to a size-based thresholding, so, for example, clusters of certain size are considered to be urban. \n",
    "\n",
    "## A Small Modification\n",
    "\n",
    "The modification I suggest to Ema's original formulation is pretty simple: we add a parameter and pass the first expression through a logistic sigmoid function: \n",
    "\n",
    "$$p_i = \\sigma\\left(\\sum_j a_{ij} p_j(i; \\theta) + \\beta\\right)\\;,$$\n",
    "\n",
    "where $\\sigma(x) = (1 + e^{-x})^{-1}$. This model turns out to have considerably richer behavior (i.e. we \"get our money's worth\" for the extra parameter $\\beta$), and has parameters that are easier to estimate. It mainly does this by avoiding mathematical difficulties in Ema's original formulation; for example, unlike the very first expression, the modified one is always a correctly normalized probability. \n",
    "\n",
    "## The Method\n",
    "\n",
    "I had previously been convinced that the correct way to model the settlement phenomena would be using latent-variable methods, in which case we could apply nice alternating-projection algorithms to the problem. However, the most performant approach so far has been the \"dumb\" approach associated with performing simple maximum-likelihood estimation using a Python solver. \n",
    "\n",
    "Let's see a quick demonstration of the method. What we're going to do is:\n",
    "\n",
    "1. Construct an initial map. \n",
    "2. Simulate one time-step of the evolution based on some known parameters. \n",
    "3. Treat this simulation as \"data\" and attempt to learn what the parameters were. \n",
    "\n",
    "As we'll see, this framework is fairly successful at this task. This is important: if it weren't, the parameters wouldn't be \"identifiable,\" and the problem of parameter estimation would be impossible under this model. \n",
    "\n",
    "Let's see this in action! \n",
    "\n",
    "# Demo"
   ]
  },
  {
   "cell_type": "markdown",
   "metadata": {
    "deletable": true,
    "editable": true
   },
   "source": [
    "The code for the `urban_growth.simulator` and `urban_growth.estimator` classes is located in the same GitHub repo. "
   ]
  },
  {
   "cell_type": "code",
   "execution_count": 1,
   "metadata": {
    "collapsed": false,
    "deletable": true,
    "editable": true
   },
   "outputs": [],
   "source": [
    "from urban_growth.simulator import *\n",
    "from urban_growth.estimator import *\n",
    "import numpy as np\n",
    "\n",
    "from matplotlib import pyplot as plt\n",
    "%matplotlib inline"
   ]
  },
  {
   "cell_type": "markdown",
   "metadata": {
    "deletable": true,
    "editable": true
   },
   "source": [
    "## Set Parameters\n",
    "\n",
    "We have parameters for: the initial map configuration, the model type, the size threshold determining the rural/urban distinction, and the $\\alpha$, $\\beta$, and $\\gamma$ above. We also have a geographic mask that makes some areas harder to settle than others. In this example, the geographic mask discourages settlement on the west and encourages settlement in the east. "
   ]
  },
  {
   "cell_type": "code",
   "execution_count": 2,
   "metadata": {
    "collapsed": false,
    "deletable": true,
    "editable": true
   },
   "outputs": [],
   "source": [
    "# Initial Configuration. \n",
    "L = 300\n",
    "rho = .47\n",
    "blur = 3\n",
    "\n",
    "# model type\n",
    "model = 'logistic'\n",
    "\n",
    "# rural-to-urban threshold\n",
    "T_vec = [200]\n",
    "\n",
    "# dynamical parameters\n",
    "pars = {'alpha' : np.array([90, 80]),\n",
    "        'gamma' : np.array([1.0, 3.0]),\n",
    "        'beta' : np.array([-10])\n",
    "       }\n",
    "\n",
    "trunc = 50\n",
    "\n",
    "# geographic mask\n",
    "geo = np.ones((L, L))\n",
    "\n",
    "for i in np.arange(0, L):\n",
    "    geo[:,i] = 1.0*i / L "
   ]
  },
  {
   "cell_type": "markdown",
   "metadata": {
    "deletable": true,
    "editable": true
   },
   "source": [
    "Now we'll create a random matrix to be our initial condition, construct a `simulator` object based on that matrix, and then run the dynamics for one time-step. In the plot below, white spots are old settlements, pink spots are new settlements, and blue spots are unsettled. "
   ]
  },
  {
   "cell_type": "code",
   "execution_count": 3,
   "metadata": {
    "collapsed": false,
    "deletable": true,
    "editable": true
   },
   "outputs": [
    {
     "data": {
      "text/plain": [
       "<matplotlib.text.Text at 0x10703f2d0>"
      ]
     },
     "execution_count": 3,
     "metadata": {},
     "output_type": "execute_result"
    },
    {
     "data": {
      "image/png": "[encoded data removed]",
      "text/plain": [
       "<matplotlib.figure.Figure at 0x105afcb10>"
      ]
     },
     "metadata": {},
     "output_type": "display_data"
    }
   ],
   "source": [
    "M0 = random_mat(L, rho, blur = blur)\n",
    "m = simulator(M0 = M0, geo = geo, model = model, trunc = trunc)\n",
    "\n",
    "M1 = m.dynamics(T_vec = T_vec,\n",
    "                n_iters = 1, \n",
    "                verbose = False,  \n",
    "                **pars)\n",
    "\n",
    "X = M1 - m.M0\n",
    "X[m.M0 == 1] = np.nan\n",
    "im = plt.imshow(X, interpolation = 'nearest', cmap = 'cool')\n",
    "plt.title('\"Data\" for Inference Experiment')"
   ]
  },
  {
   "cell_type": "markdown",
   "metadata": {
    "deletable": true,
    "editable": true
   },
   "source": [
    "## Estimation\n",
    "\n",
    "Now we'll initialize an estimator and prepare it for the estimation task: "
   ]
  },
  {
   "cell_type": "code",
   "execution_count": 4,
   "metadata": {
    "collapsed": false
   },
   "outputs": [
    {
     "name": "stderr",
     "output_type": "stream",
     "text": [
      "urban_growth/estimator.py:22: RuntimeWarning: divide by zero encountered in log\n",
      "  ll = np.nansum(X*np.log(d)+(1-X)*np.log(1-d))\n",
      "urban_growth/estimator.py:22: RuntimeWarning: invalid value encountered in multiply\n",
      "  ll = np.nansum(X*np.log(d)+(1-X)*np.log(1-d))\n"
     ]
    },
    {
     "data": {
      "text/plain": [
       "-0.16450218145792708"
      ]
     },
     "execution_count": 4,
     "metadata": {},
     "output_type": "execute_result"
    }
   ],
   "source": [
    "e = estimator(M0 = M0, geo = geo, model = model)\n",
    "e.update_morphology()\n",
    "\n",
    "e.dist_array = m.dist_array # bit of a hack\n",
    "\n",
    "e.partition_clusters(T_vec)\n",
    "e.partition_dist_array()\n",
    "    \n",
    "e.logistic_log_likelihood(X, \n",
    "                          normalized = True, \n",
    "                          use_grad = False, \n",
    "                          **pars)"
   ]
  },
  {
   "cell_type": "code",
   "execution_count": 5,
   "metadata": {
    "collapsed": false
   },
   "outputs": [
    {
     "data": {
      "image/png": "[encoded data removed]",
      "text/plain": [
       "<matplotlib.figure.Figure at 0x105b85f90>"
      ]
     },
     "metadata": {},
     "output_type": "display_data"
    }
   ],
   "source": [
    "plt.hist(e.areas.values(), bins=np.logspace(0.0, 3.0, 50))\n",
    "plt.gca().semilogx()\n",
    "plt.gca().set(xlabel = 'Cluster Area')\n",
    "t = plt.title('Distribution of Cluster Sizes')"
   ]
  },
  {
   "cell_type": "code",
   "execution_count": 6,
   "metadata": {
    "collapsed": false
   },
   "outputs": [
    {
     "name": "stdout",
     "output_type": "stream",
     "text": [
      "5010 -0.205034372968\n",
      "434 -0.196492689563\n",
      "382 -0.189098322695\n",
      "358 -0.192877636264\n",
      "298 -0.187967304227\n",
      "250"
     ]
    },
    {
     "name": "stderr",
     "output_type": "stream",
     "text": [
      "urban_growth/estimator.py:24: RuntimeWarning: invalid value encountered in divide\n",
      "  coef = X / d - (1 - X) / (1 - d)\n",
      "urban_growth/components.py:60: RuntimeWarning: overflow encountered in multiply\n",
      "  d_gamma = np.expand_dims(np.expand_dims(alpha, 1), 2) * (df * norm - dnorm * f) / norm ** 2\n"
     ]
    },
    {
     "name": "stdout",
     "output_type": "stream",
     "text": [
      " -0.183587669975\n",
      "247 -0.181163800582\n",
      "237 -0.178759823794\n",
      "235 -0.17634713784\n",
      "230 -0.174466248881\n",
      "229 -0.17114397746\n",
      "228 -0.169237768982\n",
      "218 -0.167086802656\n",
      "210 -0.165693630481\n",
      "208 -0.164476832775\n",
      "184 -0.167255526627\n",
      "181 -0.167688523949\n",
      "177 -0.168491806798\n",
      "171 -0.170052640425\n",
      "157 -0.174213215732\n",
      "156 -0.175524212111\n",
      "151 -0.176463315797\n",
      "139 -0.181097201003\n",
      "130 -0.18057109087\n",
      "129 -0.18068926127\n",
      "128 -0.181316510571\n",
      "127 -0.187289657667\n",
      "126 -0.191511951317\n",
      "124 -0.193188280305\n",
      "122 -0.194623441922\n",
      "121 -0.193525889847\n",
      "119 -0.196153992167\n",
      "116 -0.198614646262\n",
      "113 -0.196721291425\n",
      "109 -0.196999216685\n",
      "108 -0.196457472471\n",
      "107 -0.202476493693\n",
      "104 -0.201977146997\n",
      "103 -0.207040998168\n"
     ]
    },
    {
     "name": "stderr",
     "output_type": "stream",
     "text": [
      "urban_growth/components.py:60: RuntimeWarning: invalid value encountered in subtract\n",
      "  d_gamma = np.expand_dims(np.expand_dims(alpha, 1), 2) * (df * norm - dnorm * f) / norm ** 2\n",
      "urban_growth/components.py:60: RuntimeWarning: overflow encountered in square\n",
      "  d_gamma = np.expand_dims(np.expand_dims(alpha, 1), 2) * (df * norm - dnorm * f) / norm ** 2\n"
     ]
    }
   ],
   "source": [
    "pars_hat = {'alpha' : np.array([50, 80]),\n",
    "          'gamma' : np.array([3.5, 2.8]), \n",
    "          'beta'  : np.array([-2])\n",
    "         }\n",
    "\n",
    "def f(T, pars_hat):\n",
    "    e.partition_clusters(np.array([T]))\n",
    "    e.partition_dist_array()\n",
    "\n",
    "    pars_hat, ll_hat, h_inv = e.logistic_ML(X, \n",
    "                                            pars_hat, \n",
    "                                            use_grad = True, \n",
    "                                            opts = {'disp' : False},\n",
    "                                            tol = .00001)\n",
    "    print T, ll_hat\n",
    "    return T, ll_hat\n",
    "\n",
    "test = np.array([f(T, pars_hat) for T in sorted(set(m.areas.values()), reverse = True) if T > 100])"
   ]
  },
  {
   "cell_type": "code",
   "execution_count": 7,
   "metadata": {
    "collapsed": false
   },
   "outputs": [
    {
     "data": {
      "text/plain": [
       "<matplotlib.text.Text at 0x105bc40d0>"
      ]
     },
     "execution_count": 7,
     "metadata": {},
     "output_type": "execute_result"
    },
    {
     "data": {
      "image/png": "[encoded data removed]",
      "text/plain": [
       "<matplotlib.figure.Figure at 0x1069f9fd0>"
      ]
     },
     "metadata": {},
     "output_type": "display_data"
    }
   ],
   "source": [
    "plt.plot(test[:,0], test[:,1], color = 'black')\n",
    "plt.scatter(test[:,0], test[:,1], color = 'firebrick')\n",
    "plt.plot([T_vec[0], T_vec[0]], \n",
    "         [test[:,1].min(), test[:,1].max()], \n",
    "         color = 'grey')\n",
    "\n",
    "plt.gca().set(xlabel = 'T', ylabel = 'll')\n",
    "plt.semilogx()\n",
    "plt.title('Grid Search in T')"
   ]
  },
  {
   "cell_type": "code",
   "execution_count": null,
   "metadata": {
    "collapsed": true
   },
   "outputs": [],
   "source": []
  }
 ],
 "metadata": {
  "kernelspec": {
   "display_name": "Python 2",
   "language": "python",
   "name": "python2"
  },
  "language_info": {
   "codemirror_mode": {
    "name": "ipython",
    "version": 2
   },
   "file_extension": ".py",
   "mimetype": "text/x-python",
   "name": "python",
   "nbconvert_exporter": "python",
   "pygments_lexer": "ipython2",
   "version": "2.7.11"
  }
 },
 "nbformat": 4,
 "nbformat_minor": 0
}
