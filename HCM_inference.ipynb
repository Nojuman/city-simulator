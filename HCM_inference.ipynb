{
 "cells": [
  {
   "cell_type": "markdown",
   "metadata": {
    "deletable": true,
    "editable": true
   },
   "source": [
    "# Read Data"
   ]
  },
  {
   "cell_type": "code",
   "execution_count": 1,
   "metadata": {
    "collapsed": true,
    "deletable": true,
    "editable": true
   },
   "outputs": [],
   "source": [
    "import numpy as np\n",
    "from matplotlib import pyplot as plt\n",
    "from urban_growth.estimator import *\n",
    "from urban_growth.components import *\n",
    "from itertools import product\n",
    "import pandas as pd\n",
    "import pickle\n",
    "from scipy.special import expit\n",
    "%matplotlib inline"
   ]
  },
  {
   "cell_type": "code",
   "execution_count": 2,
   "metadata": {
    "collapsed": true,
    "deletable": true,
    "editable": true
   },
   "outputs": [],
   "source": [
    "years      = [1990, 2000, 2010, 2015]\n",
    "throughput_dir = 'throughput'\n",
    "\n",
    "plot_args = {'interpolation' : 'nearest', 'cmap' : 'Greys'}"
   ]
  },
  {
   "cell_type": "code",
   "execution_count": 3,
   "metadata": {
    "collapsed": false,
    "deletable": true,
    "editable": true
   },
   "outputs": [
    {
     "name": "stdout",
     "output_type": "stream",
     "text": [
      "reading throughput/HCM_1990.txt\n",
      "reading throughput/HCM_2000.txt\n",
      "reading throughput/HCM_2010.txt\n",
      "reading throughput/HCM_2015.txt\n"
     ]
    }
   ],
   "source": [
    "def f(x, delim):\n",
    "    path = throughput_dir + '/HCM_' + str(x) + '.txt'\n",
    "    print 'reading ' + path\n",
    "    return np.loadtxt(path, dtype=int, delimiter=delim)\n",
    "\n",
    "maps  = {year : f(year, ' ') for year in years}\n",
    "geo = np.loadtxt(throughput_dir + '/HCM_geo.txt')"
   ]
  },
  {
   "cell_type": "code",
   "execution_count": 4,
   "metadata": {
    "collapsed": false,
    "deletable": true,
    "editable": true
   },
   "outputs": [],
   "source": [
    "maps = {year : sum([maps[i] for i in years if i <= year]) for year in years}\n",
    "for k in maps:\n",
    "    maps[k][maps[k] > 1] = 1"
   ]
  },
  {
   "cell_type": "code",
   "execution_count": 5,
   "metadata": {
    "collapsed": false,
    "deletable": true,
    "editable": true
   },
   "outputs": [
    {
     "data": {
      "image/png": "[encoded data removed]",
      "text/plain": [
       "<matplotlib.figure.Figure at 0x10d056f10>"
      ]
     },
     "metadata": {},
     "output_type": "display_data"
    }
   ],
   "source": [
    "fig, axarr = plt.subplots(2, 2, figsize = (10, 10))\n",
    "k = 0\n",
    "for i, j in product(range(2), range(2)):\n",
    "    axarr[i, j].imshow(maps[years[i + j]], **plot_args)\n",
    "    axarr[i,j].set_title(years[k])\n",
    "    k += 1"
   ]
  },
  {
   "cell_type": "markdown",
   "metadata": {
    "deletable": true,
    "editable": true
   },
   "source": [
    "# Perform Inference"
   ]
  },
  {
   "cell_type": "code",
   "execution_count": 6,
   "metadata": {
    "collapsed": true,
    "deletable": true,
    "editable": true
   },
   "outputs": [],
   "source": [
    "def grid_search(Y0, Y1):\n",
    "   \n",
    "    y0_vec= []\n",
    "    y1_vec = []\n",
    "    T_vec = []\n",
    "    pars_hat_vec = []\n",
    "    ll_vec = []\n",
    "    h_inv_vec = []\n",
    "    N_vec = []\n",
    "\n",
    "    X = maps[Y1] - maps[Y0]\n",
    "    X[X == -1] = 0          # ignore settlements that have been disbanded\n",
    "    X = X * geo             # make consistent with geo mask\n",
    "    X[maps[Y0]] = np.nan\n",
    "    \n",
    "    e = estimator(M0 = maps[Y0], geo = geo, model = 'logistic')\n",
    "    e.update_morphology()\n",
    "    e.make_dist_array()\n",
    "    \n",
    "#     for T in sorted(set(e.areas.values()))[1:]:\n",
    "    for T in np.arange(1, 10):\n",
    "        e.partition_clusters([T])\n",
    "        e.partition_dist_array()\n",
    "        pars_0 = {\n",
    "            'alpha' : np.array([5, 8]),\n",
    "            'gamma' : np.array([3.5, 2.8]), \n",
    "            'beta'  : np.array([-2])\n",
    "           }\n",
    "\n",
    "        pars_hat, ll_hat, h_inv = e.logistic_ML(X, \n",
    "                                        pars_0, \n",
    "                                        use_grad = True, \n",
    "                                        opts = {'disp' : True})\n",
    "        \n",
    "        y0_vec.append(Y0)\n",
    "        y1_vec.append(Y1)\n",
    "        T_vec.append(T)\n",
    "        pars_hat_vec.append(pars_hat)\n",
    "        ll_vec.append(ll_hat)\n",
    "        h_inv_vec.append(h_inv)\n",
    "        N_vec.append(np.sum(np.isfinite(X) * (geo > 0)))\n",
    "                \n",
    "        print T, pars_hat\n",
    "        \n",
    "    df = pd.DataFrame(\n",
    "            {\n",
    "                'Y0'       : y0_vec,\n",
    "                'Y1'       : y1_vec,\n",
    "                'T'        : T_vec,\n",
    "                'pars_hat' : pars_hat_vec,\n",
    "                'll'       : ll_vec,\n",
    "                'h_inv'    : h_inv_vec,\n",
    "                'N'        : N_vec\n",
    "            }\n",
    "        )\n",
    "    return df\n",
    "    "
   ]
  },
  {
   "cell_type": "code",
   "execution_count": 7,
   "metadata": {
    "collapsed": false,
    "deletable": true,
    "editable": true
   },
   "outputs": [
    {
     "name": "stdout",
     "output_type": "stream",
     "text": [
      "Optimization terminated successfully.\n",
      "         Current function value: 0.044064\n",
      "         Iterations: 50\n",
      "         Function evaluations: 54\n",
      "         Gradient evaluations: 54\n",
      "1 [  5.          33.39708336   3.5          3.7069086   -4.83038664]\n",
      "Optimization terminated successfully.\n",
      "         Current function value: 0.042989\n",
      "         Iterations: 101\n",
      "         Function evaluations: 121\n",
      "         Gradient evaluations: 121\n",
      "2 [ 72.39239924  45.03829109   2.10864826   4.4835351   -5.45657021]\n",
      "Optimization terminated successfully.\n",
      "         Current function value: 0.043107\n",
      "         Iterations: 106\n",
      "         Function evaluations: 129\n",
      "         Gradient evaluations: 129\n",
      "3 [ 54.86693779  44.18247269   2.16837964   4.46703203  -5.41905419]\n",
      "Optimization terminated successfully.\n",
      "         Current function value: 0.043464\n",
      "         Iterations: 117\n",
      "         Function evaluations: 141\n",
      "         Gradient evaluations: 141\n",
      "4 [ 40.67300538  35.43349532   2.4335883    4.11615813  -5.20981308]\n",
      "Optimization terminated successfully.\n",
      "         Current function value: 0.043479\n",
      "         Iterations: 113\n",
      "         Function evaluations: 132\n",
      "         Gradient evaluations: 132\n",
      "5 [ 37.91908585  28.20262871   2.66095102   3.76633922  -5.13511242]\n",
      "Optimization terminated successfully.\n",
      "         Current function value: 0.043454\n",
      "         Iterations: 99\n",
      "         Function evaluations: 103\n",
      "         Gradient evaluations: 103\n",
      "6 [ 37.50921355  26.19086298   2.71877908   3.68025268  -5.12649418]\n",
      "Optimization terminated successfully.\n",
      "         Current function value: 0.043451\n",
      "         Iterations: 103\n",
      "         Function evaluations: 110\n",
      "         Gradient evaluations: 110\n",
      "7 [ 37.66728683  22.72397711   2.82678004   3.45656644  -5.11022049]\n",
      "Optimization terminated successfully.\n",
      "         Current function value: 0.043466\n",
      "         Iterations: 88\n",
      "         Function evaluations: 96\n",
      "         Gradient evaluations: 96\n",
      "8 [ 37.06364819  21.2895021    2.85642761   3.35337874  -5.10037895]\n",
      "Optimization terminated successfully.\n",
      "         Current function value: 0.043386\n",
      "         Iterations: 94\n",
      "         Function evaluations: 98\n",
      "         Gradient evaluations: 98\n",
      "9 [ 37.50175299  17.59262999   2.965559     3.05238674  -5.09206074]\n",
      "Optimization terminated successfully.\n",
      "         Current function value: 0.045047\n",
      "         Iterations: 49\n",
      "         Function evaluations: 53\n",
      "         Gradient evaluations: 53\n",
      "1 [  5.          18.09559104   3.5          2.80201229  -4.91292011]\n",
      "Optimization terminated successfully.\n",
      "         Current function value: 0.043464\n",
      "         Iterations: 105\n",
      "         Function evaluations: 116\n",
      "         Gradient evaluations: 116\n",
      "2 [ 86.99470489  51.77458015   1.84643764   4.77101307  -5.85020564]\n",
      "Optimization terminated successfully.\n",
      "         Current function value: 0.043818\n",
      "         Iterations: 109\n",
      "         Function evaluations: 128\n",
      "         Gradient evaluations: 128\n",
      "3 [ 57.76552316  36.2855385    2.02989755   4.2483163   -5.67974615]\n",
      "Optimization terminated successfully.\n",
      "         Current function value: 0.043807\n",
      "         Iterations: 104\n",
      "         Function evaluations: 110\n",
      "         Gradient evaluations: 110\n",
      "4 [ 49.17752644  40.64007499   2.12196457   4.4740907   -5.60796028]\n",
      "Optimization terminated successfully.\n",
      "         Current function value: 0.044122\n",
      "         Iterations: 108\n",
      "         Function evaluations: 115\n",
      "         Gradient evaluations: 115\n",
      "5 [ 40.79796005  40.07102989   2.18822318   4.44068415  -5.45395126]\n",
      "Optimization terminated successfully.\n",
      "         Current function value: 0.044197\n",
      "         Iterations: 103\n",
      "         Function evaluations: 123\n",
      "         Gradient evaluations: 123\n",
      "6 [ 36.21115738  20.95242278   2.38423949   3.48327556  -5.3311841 ]\n",
      "Optimization terminated successfully.\n",
      "         Current function value: 0.044101\n",
      "         Iterations: 96\n",
      "         Function evaluations: 98\n",
      "         Gradient evaluations: 98\n",
      "7 [ 35.81869935  24.97381904   2.28027215   3.81156101  -5.38363353]\n",
      "Optimization terminated successfully.\n",
      "         Current function value: 0.044100\n",
      "         Iterations: 97\n",
      "         Function evaluations: 100\n",
      "         Gradient evaluations: 100\n",
      "8 [ 35.5309653   22.63555955   2.30973503   3.6764825   -5.37732652]\n",
      "Optimization terminated successfully.\n",
      "         Current function value: 0.044145\n",
      "         Iterations: 103\n",
      "         Function evaluations: 107\n",
      "         Gradient evaluations: 107\n",
      "9 [ 34.30551198  19.95383238   2.36604319   3.46033226  -5.33837755]\n",
      "Optimization terminated successfully.\n",
      "         Current function value: 0.056352\n",
      "         Iterations: 43\n",
      "         Function evaluations: 46\n",
      "         Gradient evaluations: 46\n",
      "1 [  5.          20.12924315   3.5          3.24185816  -4.57462542]\n"
     ]
    },
    {
     "ename": "KeyboardInterrupt",
     "evalue": "",
     "output_type": "error",
     "traceback": [
      "\u001b[0;31m---------------------------------------------------------------------------\u001b[0m",
      "\u001b[0;31mKeyboardInterrupt\u001b[0m                         Traceback (most recent call last)",
      "\u001b[0;32m<ipython-input-7-a54aecb9a512>\u001b[0m in \u001b[0;36m<module>\u001b[0;34m()\u001b[0m\n\u001b[0;32m----> 1\u001b[0;31m \u001b[0mout\u001b[0m \u001b[0;34m=\u001b[0m \u001b[0mpd\u001b[0m\u001b[0;34m.\u001b[0m\u001b[0mconcat\u001b[0m\u001b[0;34m(\u001b[0m\u001b[0;34m[\u001b[0m\u001b[0mgrid_search\u001b[0m\u001b[0;34m(\u001b[0m\u001b[0myears\u001b[0m\u001b[0;34m[\u001b[0m\u001b[0mi\u001b[0m\u001b[0;34m]\u001b[0m\u001b[0;34m,\u001b[0m \u001b[0myears\u001b[0m\u001b[0;34m[\u001b[0m\u001b[0mi\u001b[0m\u001b[0;34m+\u001b[0m\u001b[0;36m1\u001b[0m\u001b[0;34m]\u001b[0m\u001b[0;34m)\u001b[0m \u001b[0;32mfor\u001b[0m \u001b[0mi\u001b[0m \u001b[0;32min\u001b[0m \u001b[0mrange\u001b[0m\u001b[0;34m(\u001b[0m\u001b[0;36m3\u001b[0m\u001b[0;34m)\u001b[0m\u001b[0;34m]\u001b[0m\u001b[0;34m)\u001b[0m\u001b[0;34m\u001b[0m\u001b[0m\n\u001b[0m",
      "\u001b[0;32m<ipython-input-6-7e1c8aeb6387>\u001b[0m in \u001b[0;36mgrid_search\u001b[0;34m(Y0, Y1)\u001b[0m\n\u001b[1;32m     21\u001b[0m     \u001b[0;32mfor\u001b[0m \u001b[0mT\u001b[0m \u001b[0;32min\u001b[0m \u001b[0mnp\u001b[0m\u001b[0;34m.\u001b[0m\u001b[0marange\u001b[0m\u001b[0;34m(\u001b[0m\u001b[0;36m1\u001b[0m\u001b[0;34m,\u001b[0m \u001b[0;36m10\u001b[0m\u001b[0;34m)\u001b[0m\u001b[0;34m:\u001b[0m\u001b[0;34m\u001b[0m\u001b[0m\n\u001b[1;32m     22\u001b[0m         \u001b[0me\u001b[0m\u001b[0;34m.\u001b[0m\u001b[0mpartition_clusters\u001b[0m\u001b[0;34m(\u001b[0m\u001b[0;34m[\u001b[0m\u001b[0mT\u001b[0m\u001b[0;34m]\u001b[0m\u001b[0;34m)\u001b[0m\u001b[0;34m\u001b[0m\u001b[0m\n\u001b[0;32m---> 23\u001b[0;31m         \u001b[0me\u001b[0m\u001b[0;34m.\u001b[0m\u001b[0mpartition_dist_array\u001b[0m\u001b[0;34m(\u001b[0m\u001b[0;34m)\u001b[0m\u001b[0;34m\u001b[0m\u001b[0m\n\u001b[0m\u001b[1;32m     24\u001b[0m         pars_0 = {\n\u001b[1;32m     25\u001b[0m             \u001b[0;34m'alpha'\u001b[0m \u001b[0;34m:\u001b[0m \u001b[0mnp\u001b[0m\u001b[0;34m.\u001b[0m\u001b[0marray\u001b[0m\u001b[0;34m(\u001b[0m\u001b[0;34m[\u001b[0m\u001b[0;36m5\u001b[0m\u001b[0;34m,\u001b[0m \u001b[0;36m8\u001b[0m\u001b[0;34m]\u001b[0m\u001b[0;34m)\u001b[0m\u001b[0;34m,\u001b[0m\u001b[0;34m\u001b[0m\u001b[0m\n",
      "\u001b[0;32m/Users/phil/projects/urban_growth/urban_growth/model.pyc\u001b[0m in \u001b[0;36mpartition_dist_array\u001b[0;34m(self)\u001b[0m\n\u001b[1;32m     94\u001b[0m                     \u001b[0;32mreturn\u001b[0m \u001b[0mnp\u001b[0m\u001b[0;34m.\u001b[0m\u001b[0mexpand_dims\u001b[0m\u001b[0;34m(\u001b[0m\u001b[0;34m(\u001b[0m\u001b[0mself\u001b[0m\u001b[0;34m.\u001b[0m\u001b[0mdist_array\u001b[0m \u001b[0;34m*\u001b[0m \u001b[0mv\u001b[0m\u001b[0;34m)\u001b[0m\u001b[0;34m.\u001b[0m\u001b[0msum\u001b[0m\u001b[0;34m(\u001b[0m\u001b[0maxis\u001b[0m \u001b[0;34m=\u001b[0m \u001b[0;36m0\u001b[0m\u001b[0;34m)\u001b[0m\u001b[0;34m,\u001b[0m \u001b[0;36m0\u001b[0m\u001b[0;34m)\u001b[0m\u001b[0;34m\u001b[0m\u001b[0m\n\u001b[1;32m     95\u001b[0m \u001b[0;34m\u001b[0m\u001b[0m\n\u001b[0;32m---> 96\u001b[0;31m                 \u001b[0mself\u001b[0m\u001b[0;34m.\u001b[0m\u001b[0mD\u001b[0m \u001b[0;34m=\u001b[0m \u001b[0mnp\u001b[0m\u001b[0;34m.\u001b[0m\u001b[0mconcatenate\u001b[0m\u001b[0;34m(\u001b[0m\u001b[0;34m[\u001b[0m\u001b[0mf\u001b[0m\u001b[0;34m(\u001b[0m\u001b[0mj\u001b[0m\u001b[0;34m)\u001b[0m \u001b[0;32mfor\u001b[0m \u001b[0mj\u001b[0m \u001b[0;32min\u001b[0m \u001b[0mrange\u001b[0m\u001b[0;34m(\u001b[0m\u001b[0mlen\u001b[0m\u001b[0;34m(\u001b[0m\u001b[0mself\u001b[0m\u001b[0;34m.\u001b[0m\u001b[0mtypes\u001b[0m\u001b[0;34m)\u001b[0m\u001b[0;34m)\u001b[0m\u001b[0;34m]\u001b[0m\u001b[0;34m)\u001b[0m\u001b[0;34m\u001b[0m\u001b[0m\n\u001b[0m\u001b[1;32m     97\u001b[0m \u001b[0;34m\u001b[0m\u001b[0m\n\u001b[1;32m     98\u001b[0m \u001b[0;31m################################################################################\u001b[0m\u001b[0;34m\u001b[0m\u001b[0;34m\u001b[0m\u001b[0m\n",
      "\u001b[0;32m/Users/phil/projects/urban_growth/urban_growth/model.pyc\u001b[0m in \u001b[0;36mf\u001b[0;34m(j)\u001b[0m\n\u001b[1;32m     92\u001b[0m                     \u001b[0mv\u001b[0m \u001b[0;34m=\u001b[0m \u001b[0mnp\u001b[0m\u001b[0;34m.\u001b[0m\u001b[0mexpand_dims\u001b[0m\u001b[0;34m(\u001b[0m\u001b[0mv\u001b[0m\u001b[0;34m,\u001b[0m \u001b[0;36m2\u001b[0m\u001b[0;34m)\u001b[0m\u001b[0;34m\u001b[0m\u001b[0m\n\u001b[1;32m     93\u001b[0m                     \u001b[0mv\u001b[0m \u001b[0;34m=\u001b[0m \u001b[0mnp\u001b[0m\u001b[0;34m.\u001b[0m\u001b[0mexpand_dims\u001b[0m\u001b[0;34m(\u001b[0m\u001b[0mv\u001b[0m\u001b[0;34m,\u001b[0m \u001b[0;36m3\u001b[0m\u001b[0;34m)\u001b[0m\u001b[0;34m\u001b[0m\u001b[0m\n\u001b[0;32m---> 94\u001b[0;31m                     \u001b[0;32mreturn\u001b[0m \u001b[0mnp\u001b[0m\u001b[0;34m.\u001b[0m\u001b[0mexpand_dims\u001b[0m\u001b[0;34m(\u001b[0m\u001b[0;34m(\u001b[0m\u001b[0mself\u001b[0m\u001b[0;34m.\u001b[0m\u001b[0mdist_array\u001b[0m \u001b[0;34m*\u001b[0m \u001b[0mv\u001b[0m\u001b[0;34m)\u001b[0m\u001b[0;34m.\u001b[0m\u001b[0msum\u001b[0m\u001b[0;34m(\u001b[0m\u001b[0maxis\u001b[0m \u001b[0;34m=\u001b[0m \u001b[0;36m0\u001b[0m\u001b[0;34m)\u001b[0m\u001b[0;34m,\u001b[0m \u001b[0;36m0\u001b[0m\u001b[0;34m)\u001b[0m\u001b[0;34m\u001b[0m\u001b[0m\n\u001b[0m\u001b[1;32m     95\u001b[0m \u001b[0;34m\u001b[0m\u001b[0m\n\u001b[1;32m     96\u001b[0m                 \u001b[0mself\u001b[0m\u001b[0;34m.\u001b[0m\u001b[0mD\u001b[0m \u001b[0;34m=\u001b[0m \u001b[0mnp\u001b[0m\u001b[0;34m.\u001b[0m\u001b[0mconcatenate\u001b[0m\u001b[0;34m(\u001b[0m\u001b[0;34m[\u001b[0m\u001b[0mf\u001b[0m\u001b[0;34m(\u001b[0m\u001b[0mj\u001b[0m\u001b[0;34m)\u001b[0m \u001b[0;32mfor\u001b[0m \u001b[0mj\u001b[0m \u001b[0;32min\u001b[0m \u001b[0mrange\u001b[0m\u001b[0;34m(\u001b[0m\u001b[0mlen\u001b[0m\u001b[0;34m(\u001b[0m\u001b[0mself\u001b[0m\u001b[0;34m.\u001b[0m\u001b[0mtypes\u001b[0m\u001b[0;34m)\u001b[0m\u001b[0;34m)\u001b[0m\u001b[0;34m]\u001b[0m\u001b[0;34m)\u001b[0m\u001b[0;34m\u001b[0m\u001b[0m\n",
      "\u001b[0;32m/usr/local/lib/python2.7/site-packages/numpy/core/_methods.pyc\u001b[0m in \u001b[0;36m_sum\u001b[0;34m(a, axis, dtype, out, keepdims)\u001b[0m\n\u001b[1;32m     30\u001b[0m \u001b[0;34m\u001b[0m\u001b[0m\n\u001b[1;32m     31\u001b[0m \u001b[0;32mdef\u001b[0m \u001b[0m_sum\u001b[0m\u001b[0;34m(\u001b[0m\u001b[0ma\u001b[0m\u001b[0;34m,\u001b[0m \u001b[0maxis\u001b[0m\u001b[0;34m=\u001b[0m\u001b[0mNone\u001b[0m\u001b[0;34m,\u001b[0m \u001b[0mdtype\u001b[0m\u001b[0;34m=\u001b[0m\u001b[0mNone\u001b[0m\u001b[0;34m,\u001b[0m \u001b[0mout\u001b[0m\u001b[0;34m=\u001b[0m\u001b[0mNone\u001b[0m\u001b[0;34m,\u001b[0m \u001b[0mkeepdims\u001b[0m\u001b[0;34m=\u001b[0m\u001b[0mFalse\u001b[0m\u001b[0;34m)\u001b[0m\u001b[0;34m:\u001b[0m\u001b[0;34m\u001b[0m\u001b[0m\n\u001b[0;32m---> 32\u001b[0;31m     \u001b[0;32mreturn\u001b[0m \u001b[0mumr_sum\u001b[0m\u001b[0;34m(\u001b[0m\u001b[0ma\u001b[0m\u001b[0;34m,\u001b[0m \u001b[0maxis\u001b[0m\u001b[0;34m,\u001b[0m \u001b[0mdtype\u001b[0m\u001b[0;34m,\u001b[0m \u001b[0mout\u001b[0m\u001b[0;34m,\u001b[0m \u001b[0mkeepdims\u001b[0m\u001b[0;34m)\u001b[0m\u001b[0;34m\u001b[0m\u001b[0m\n\u001b[0m\u001b[1;32m     33\u001b[0m \u001b[0;34m\u001b[0m\u001b[0m\n\u001b[1;32m     34\u001b[0m \u001b[0;32mdef\u001b[0m \u001b[0m_prod\u001b[0m\u001b[0;34m(\u001b[0m\u001b[0ma\u001b[0m\u001b[0;34m,\u001b[0m \u001b[0maxis\u001b[0m\u001b[0;34m=\u001b[0m\u001b[0mNone\u001b[0m\u001b[0;34m,\u001b[0m \u001b[0mdtype\u001b[0m\u001b[0;34m=\u001b[0m\u001b[0mNone\u001b[0m\u001b[0;34m,\u001b[0m \u001b[0mout\u001b[0m\u001b[0;34m=\u001b[0m\u001b[0mNone\u001b[0m\u001b[0;34m,\u001b[0m \u001b[0mkeepdims\u001b[0m\u001b[0;34m=\u001b[0m\u001b[0mFalse\u001b[0m\u001b[0;34m)\u001b[0m\u001b[0;34m:\u001b[0m\u001b[0;34m\u001b[0m\u001b[0m\n",
      "\u001b[0;31mKeyboardInterrupt\u001b[0m: "
     ]
    }
   ],
   "source": [
    "out = pd.concat([grid_search(years[i], years[i+1]) for i in range(3)])"
   ]
  },
  {
   "cell_type": "code",
   "execution_count": null,
   "metadata": {
    "collapsed": true,
    "deletable": true,
    "editable": true
   },
   "outputs": [],
   "source": [
    "file_Name = \"throughput/HCM_estimates\"\n",
    "fileObject = open(file_Name,'wb')\n",
    "pickle.dump(out,fileObject)   \n",
    "fileObject.close()"
   ]
  },
  {
   "cell_type": "code",
   "execution_count": null,
   "metadata": {
    "collapsed": false,
    "deletable": true,
    "editable": true
   },
   "outputs": [],
   "source": [
    "fileObject = open(file_Name,'r')  \n",
    "df = pickle.load(fileObject)"
   ]
  },
  {
   "cell_type": "markdown",
   "metadata": {
    "deletable": true,
    "editable": true
   },
   "source": [
    "# Quick Analyses"
   ]
  }
 ],
 "metadata": {
  "celltoolbar": "Raw Cell Format",
  "kernelspec": {
   "display_name": "Python 2",
   "language": "python",
   "name": "python2"
  },
  "language_info": {
   "codemirror_mode": {
    "name": "ipython",
    "version": 2
   },
   "file_extension": ".py",
   "mimetype": "text/x-python",
   "name": "python",
   "nbconvert_exporter": "python",
   "pygments_lexer": "ipython2",
   "version": "2.7.11"
  }
 },
 "nbformat": 4,
 "nbformat_minor": 0
}
