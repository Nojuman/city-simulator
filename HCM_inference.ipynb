{
 "cells": [
  {
   "cell_type": "markdown",
   "metadata": {
    "deletable": true,
    "editable": true
   },
   "source": [
    "# Read Data"
   ]
  },
  {
   "cell_type": "code",
   "execution_count": null,
   "metadata": {
    "collapsed": true,
    "deletable": true,
    "editable": true
   },
   "outputs": [],
   "source": [
    "import numpy as np\n",
    "from matplotlib import pyplot as plt\n",
    "from urban_growth.estimator import *\n",
    "from urban_growth.components import *\n",
    "from itertools import product\n",
    "import pandas as pd\n",
    "import pickle\n",
    "from scipy.special import expit\n",
    "%matplotlib inline"
   ]
  },
  {
   "cell_type": "code",
   "execution_count": null,
   "metadata": {
    "collapsed": true,
    "deletable": true,
    "editable": true
   },
   "outputs": [],
   "source": [
    "years      = [1990, 2000, 2010, 2015]\n",
    "throughput_dir = 'throughput/HCM'\n",
    "\n",
    "plot_args = {'interpolation' : 'nearest', 'cmap' : 'Greys'}"
   ]
  },
  {
   "cell_type": "code",
   "execution_count": null,
   "metadata": {
    "collapsed": false,
    "deletable": true,
    "editable": true
   },
   "outputs": [],
   "source": [
    "def f(x, delim):\n",
    "    path = throughput_dir + '/HCM_' + str(x) + '.txt'\n",
    "    return np.loadtxt(path, dtype=int, delimiter=delim)\n",
    "\n",
    "maps  = {year : f(year, ' ') for year in years}\n",
    "geo = np.loadtxt(throughput_dir + '/HCM_geo.txt')"
   ]
  },
  {
   "cell_type": "code",
   "execution_count": null,
   "metadata": {
    "collapsed": false,
    "deletable": true,
    "editable": true
   },
   "outputs": [],
   "source": [
    "maps = {year : sum([maps[i] for i in years if i <= year]) for year in years}\n",
    "for k in maps:\n",
    "    maps[k][maps[k] > 1] = 1"
   ]
  },
  {
   "cell_type": "code",
   "execution_count": null,
   "metadata": {
    "collapsed": false,
    "deletable": true,
    "editable": true
   },
   "outputs": [],
   "source": [
    "fig, axarr = plt.subplots(2, 2, figsize = (10, 10))\n",
    "k = 0\n",
    "for i, j in product(range(2), range(2)):\n",
    "    axarr[i, j].imshow(maps[years[i + j]], **plot_args)\n",
    "    axarr[i,j].set_title(years[k])\n",
    "    k += 1"
   ]
  },
  {
   "cell_type": "markdown",
   "metadata": {
    "deletable": true,
    "editable": true
   },
   "source": [
    "# Perform Inference"
   ]
  },
  {
   "cell_type": "code",
   "execution_count": null,
   "metadata": {
    "collapsed": true,
    "deletable": true,
    "editable": true
   },
   "outputs": [],
   "source": [
    "def grid_search(Y0, Y1):\n",
    "   \n",
    "    y0_vec= []\n",
    "    y1_vec = []\n",
    "    T_vec = []\n",
    "    pars_hat_vec = []\n",
    "    ll_vec = []\n",
    "    h_inv_vec = []\n",
    "    N_vec = []\n",
    "\n",
    "    X = maps[Y1] - maps[Y0]\n",
    "    X[X == -1] = 0          # ignore settlements that have been disbanded\n",
    "    X = X * geo             # make consistent with geo mask\n",
    "    X[maps[Y0]] = np.nan\n",
    "    \n",
    "    e = estimator(M0 = maps[Y0], geo = geo, model = 'logistic')\n",
    "    e.update_morphology()\n",
    "    e.make_dist_array()\n",
    "    \n",
    "#     for T in sorted(set(e.areas.values()))[1:]:\n",
    "    for T in np.arange(2, 10):\n",
    "        e.partition_clusters([T])\n",
    "        e.partition_dist_array()\n",
    "        pars_0 = {\n",
    "            'alpha' : np.array([5, 8]),\n",
    "            'gamma' : np.array([3.5, 2.8]), \n",
    "            'beta'  : np.array([-2])\n",
    "           }\n",
    "\n",
    "        pars_hat, ll_hat, h_inv = e.logistic_ML(X, \n",
    "                                        pars_0, \n",
    "                                        use_grad = True, \n",
    "                                        opts = {'disp' : True})\n",
    "        \n",
    "        y0_vec.append(Y0)\n",
    "        y1_vec.append(Y1)\n",
    "        T_vec.append(T)\n",
    "        pars_hat_vec.append(pars_hat)\n",
    "        ll_vec.append(ll_hat)\n",
    "        h_inv_vec.append(h_inv)\n",
    "        N_vec.append(np.sum(np.isfinite(X) * (geo > 0)))\n",
    "                \n",
    "        print T, pars_hat\n",
    "        \n",
    "    df = pd.DataFrame(\n",
    "            {\n",
    "                'Y0'       : y0_vec,\n",
    "                'Y1'       : y1_vec,\n",
    "                'T'        : T_vec,\n",
    "                'pars_hat' : pars_hat_vec,\n",
    "                'll'       : ll_vec,\n",
    "                'h_inv'    : h_inv_vec,\n",
    "                'N'        : N_vec\n",
    "            }\n",
    "        )\n",
    "    return df\n",
    "    "
   ]
  },
  {
   "cell_type": "code",
   "execution_count": null,
   "metadata": {
    "collapsed": false,
    "deletable": true,
    "editable": true
   },
   "outputs": [],
   "source": [
    "out = pd.concat([grid_search(years[i], years[i+1]) for i in range(3)])\n",
    "out_path = \"throughput/HCM_estimates\"\n",
    "out_file = open(out_path,'wb')\n",
    "pickle.dump(out,out_file)   \n",
    "out_file.close()"
   ]
  }
 ],
 "metadata": {
  "celltoolbar": "Raw Cell Format",
  "kernelspec": {
   "display_name": "Python 2",
   "language": "python",
   "name": "python2"
  },
  "language_info": {
   "codemirror_mode": {
    "name": "ipython",
    "version": 2
   },
   "file_extension": ".py",
   "mimetype": "text/x-python",
   "name": "python",
   "nbconvert_exporter": "python",
   "pygments_lexer": "ipython2",
   "version": "2.7.11"
  }
 },
 "nbformat": 4,
 "nbformat_minor": 0
}
