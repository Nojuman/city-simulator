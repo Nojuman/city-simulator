{
 "cells": [
  {
   "cell_type": "markdown",
   "metadata": {
    "deletable": true,
    "editable": true
   },
   "source": [
    "# First Steps Toward Inference\n",
    "\n",
    "In this document, we are taking our first steps toward inferring the maximum likelihood moderl parameters. First, we'll generate some fake data and let it evolve for one time-step under some set model parameters. We then compute the likelihood function over a range of potential parameters to see if we can find the original ones. In this simple demo we just show a 2-dimensional grid search over each pair of coupled parameters. \n",
    "\n",
    "In this version we use Ema's original model formulation. "
   ]
  },
  {
   "cell_type": "code",
   "execution_count": 1,
   "metadata": {
    "collapsed": false,
    "deletable": true,
    "editable": true
   },
   "outputs": [],
   "source": [
    "from matplotlib import pyplot as plt\n",
    "import numpy as np\n",
    "from itertools import product\n",
    "from urban_growth import simulator \n",
    "from urban_growth import estimator \n",
    "import copy\n",
    "\n",
    "%matplotlib inline"
   ]
  },
  {
   "cell_type": "markdown",
   "metadata": {
    "deletable": true,
    "editable": true
   },
   "source": [
    "# Generate the Data"
   ]
  },
  {
   "cell_type": "code",
   "execution_count": 2,
   "metadata": {
    "collapsed": false,
    "deletable": true,
    "editable": true
   },
   "outputs": [],
   "source": [
    "# Params\n",
    "\n",
    "## Initial Configuration\n",
    "L = 200\n",
    "rho = .44\n",
    "blur = 2\n",
    "\n",
    "## Rural/Urban Size Threshold\n",
    "T = 50\n",
    "\n",
    "## Dynamical Parameters, not assuming that these are good ones. \n",
    "truncation = 20\n",
    "\n",
    "gamma_r = 2.0\n",
    "gamma_u = 3.0\n",
    "alpha_r = 1.5\n",
    "alpha_u = 2.25\n",
    "\n",
    "pars = {'gamma_r' : gamma_r,     # rural settlement more diffuse than urban\n",
    "        'gamma_u' : gamma_u,      \n",
    "        'alpha_r' : alpha_r,       \n",
    "        'alpha_u' : alpha_u,\n",
    "        'truncation' : truncation}\n",
    "\n",
    "\n",
    "geo = np.ones((L, L))\n",
    "\n",
    "for i in np.arange(0, L):\n",
    "    geo[:,i] = 1.0*i / L "
   ]
  },
  {
   "cell_type": "code",
   "execution_count": 3,
   "metadata": {
    "collapsed": false,
    "deletable": true,
    "editable": true
   },
   "outputs": [
    {
     "name": "stderr",
     "output_type": "stream",
     "text": [
      "urban_growth/model.py:39: RuntimeWarning: invalid value encountered in divide\n",
      "  return p_r ** 2 / denom, p_u ** 2 / denom\n",
      "urban_growth/simulator.py:17: RuntimeWarning: invalid value encountered in less\n",
      "  new_mat = (rands < prob) * 1\n"
     ]
    },
    {
     "name": "stdout",
     "output_type": "stream",
     "text": [
      "Step 1 completed\n"
     ]
    }
   ],
   "source": [
    "m = simulator.simulator(geo = geo)\n",
    "m.set_M0(L = L, density = rho, blur = blur)\n",
    "\n",
    "density_pars = {'thresh'     : T,\n",
    "                'pars'       : copy.deepcopy(pars),\n",
    "                'model'      : estimator.model_0,\n",
    "                'use_geo'    : True,\n",
    "                'truncation' : truncation, \n",
    "                'stage'      : 'initial'}\n",
    "\n",
    "densities = m.density(**density_pars)\n",
    "\n",
    "# densities = m.density(T, pars, \n",
    "#                       use_geo = True, \n",
    "#                       model = model_1,\n",
    "#                       stage = 'initial', \n",
    "#                       truncation = truncation)\n",
    "\n",
    "prob = densities[0] + densities[1]\n",
    "\n",
    "\n",
    "dynamics_pars = {'thresh'     : T,\n",
    "                'pars'       : pars,\n",
    "                'model'      : estimator.model_0,\n",
    "                'use_geo'    : True,\n",
    "                'truncation' : truncation}\n",
    "\n",
    "M = m.dynamics(n_iters = 1, **dynamics_pars)\n",
    "M1 = M.copy()\n",
    "M1[np.isfinite(M1)] = 1\n",
    "M1[np.isnan(M1)] = 0"
   ]
  },
  {
   "cell_type": "markdown",
   "metadata": {
    "deletable": true,
    "editable": true
   },
   "source": [
    "## Visualize the data\n"
   ]
  },
  {
   "cell_type": "code",
   "execution_count": 4,
   "metadata": {
    "collapsed": false,
    "deletable": true,
    "editable": true
   },
   "outputs": [
    {
     "data": {
      "text/plain": [
       "<matplotlib.text.Text at 0x115b087d0>"
      ]
     },
     "execution_count": 4,
     "metadata": {},
     "output_type": "execute_result"
    },
    {
     "data": {
      "image/png": "[encoded data removed]",
      "text/plain": [
       "<matplotlib.figure.Figure at 0x114f83950>"
      ]
     },
     "metadata": {},
     "output_type": "display_data"
    }
   ],
   "source": [
    "fig = plt.figure(figsize = (10, 4))\n",
    "ax1 = fig.add_subplot(121)\n",
    "im = ax1.imshow(M1, interpolation = 'nearest')\n",
    "plt.title('Generated Data')\n",
    "plt.colorbar(im)\n",
    "\n",
    "ax2 = fig.add_subplot(122)\n",
    "ax2.imshow(prob, interpolation = 'nearest')\n",
    "plt.title('Probability Density Function for Generated Data')"
   ]
  },
  {
   "cell_type": "code",
   "execution_count": 5,
   "metadata": {
    "collapsed": false,
    "deletable": true,
    "editable": true
   },
   "outputs": [],
   "source": [
    "e = estimator.estimator(geo = geo)\n",
    "e.set_M0(M0 = m.get_M0())"
   ]
  },
  {
   "cell_type": "markdown",
   "metadata": {
    "deletable": true,
    "editable": true
   },
   "source": [
    "# Grid Search"
   ]
  },
  {
   "cell_type": "markdown",
   "metadata": {
    "deletable": true,
    "editable": true
   },
   "source": [
    "Now we'll evaluate the model likelihood on a range of values of the parameters $\\alpha_r$, $\\alpha_u$, $\\gamma_r$, $\\gamma_u$. "
   ]
  },
  {
   "cell_type": "code",
   "execution_count": null,
   "metadata": {
    "collapsed": true
   },
   "outputs": [],
   "source": [
    "def grid_search_plot(ax, par_1, par_2, coords_1, coords_2):\n",
    "    searcher = grid_searcher(par_1, par_2)\n",
    "    M = do_search(searcher, coords_1,coords_2)\n",
    "    show_likelihood(M, par_1, par_2, ax, coords_1, coords_2)\n",
    "\n",
    "def grid_searcher(par_1, par_2):\n",
    "    def test_likelihood(v_1, v_2):\n",
    "        internal_pars = copy.deepcopy(density_pars)\n",
    "        internal_pars['pars'].update({par_1 : v_1, \n",
    "                                      par_2 : v_2})\n",
    "        l1 = e.log_likelihood(M1, normalized = True, **internal_pars)\n",
    "        return l1\n",
    "    return test_likelihood\n",
    "\n",
    "def do_search(searcher, ax1, ax2):\n",
    "    coords = product(ax1, ax2)\n",
    "    test = np.array([searcher(coord[0], coord[1]) for coord in coords])\n",
    "    lls = test.reshape(len(ax1), len(ax2))\n",
    "    return lls\n",
    "\n",
    "def show_likelihood(M, par_1, par_2, ax, coords_1, coords_2):\n",
    "    im = ax.imshow(M, \n",
    "           interpolation = 'nearest',\n",
    "           cmap = 'magma')\n",
    "    plt.colorbar(im)\n",
    "    \n",
    "    ax.set(xlabel = r'$\\{}$'.format(par_2),\n",
    "           ylabel =  r'$\\{}$'.format(par_1),\n",
    "           xlim = (coords_1.min(), coords_1.max()), \n",
    "           ylim = (coords_2.min(), coords_2.max()))\n",
    "    \n",
    "    ticks = plt.xticks(range(len(coords_1)), coords_1, rotation='vertical')\n",
    "    ticks = plt.yticks(range(len(coords_2)), coords_2, rotation='horizontal')\n",
    "    \n",
    "    true_1 = np.where(coords_1 == pars[par_1])[0][0]\n",
    "    true_2 = np.where(coords_2 == pars[par_2])[0][0]\n",
    "\n",
    "    max_ix = np.unravel_index(M.argmax(), M.shape)\n",
    "\n",
    "    ax.scatter(true_2, true_1, c = 'white', s = 100)\n",
    "    ax.scatter(max_ix[1], max_ix[0], c = 'black', s = 10)"
   ]
  },
  {
   "cell_type": "code",
   "execution_count": null,
   "metadata": {
    "collapsed": false
   },
   "outputs": [
    {
     "name": "stderr",
     "output_type": "stream",
     "text": [
      "urban_growth/estimator.py:22: RuntimeWarning: divide by zero encountered in log\n",
      "  ll = np.nansum(X * np.log(prob) + (1 - X) * np.log(1 - prob))\n",
      "urban_growth/estimator.py:22: RuntimeWarning: invalid value encountered in multiply\n",
      "  ll = np.nansum(X * np.log(prob) + (1 - X) * np.log(1 - prob))\n",
      "urban_growth/estimator.py:22: RuntimeWarning: invalid value encountered in log\n",
      "  ll = np.nansum(X * np.log(prob) + (1 - X) * np.log(1 - prob))\n"
     ]
    }
   ],
   "source": [
    "fig = plt.figure(figsize = (12, 12))\n",
    "ax1 = fig.add_subplot(221)\n",
    "grid_search_plot(ax1, \n",
    "                 'gamma_r', \n",
    "                 'gamma_u', \n",
    "                 coords_1 = np.linspace(1, 4, 13), \n",
    "                 coords_2 = np.linspace(1, 4, 13))\n",
    "\n",
    "ax2 = fig.add_subplot(222)\n",
    "grid_search_plot(ax2, \n",
    "                 'gamma_r', \n",
    "                 'alpha_r', \n",
    "                 coords_1 = np.linspace(1, 4, 13), \n",
    "                 coords_2 = np.linspace(1, 4, 13))\n",
    "\n",
    "ax3 = fig.add_subplot(223)\n",
    "grid_search_plot(ax3, \n",
    "                 'alpha_u', \n",
    "                 'gamma_u', \n",
    "                 coords_1 = np.linspace(1, 4, 13), \n",
    "                 coords_2 = np.linspace(1, 4, 13))\n",
    "\n",
    "ax4 = fig.add_subplot(224)\n",
    "grid_search_plot(ax4, \n",
    "                 'alpha_u', \n",
    "                 'alpha_r', \n",
    "                 coords_1 = np.linspace(1, 4, 13), \n",
    "                 coords_2 = np.linspace(1, 4, 13))"
   ]
  }
 ],
 "metadata": {
  "kernelspec": {
   "display_name": "Python 2",
   "language": "python",
   "name": "python2"
  },
  "language_info": {
   "codemirror_mode": {
    "name": "ipython",
    "version": 2
   },
   "file_extension": ".py",
   "mimetype": "text/x-python",
   "name": "python",
   "nbconvert_exporter": "python",
   "pygments_lexer": "ipython2",
   "version": "2.7.11"
  }
 },
 "nbformat": 4,
 "nbformat_minor": 0
}
