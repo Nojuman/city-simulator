{
 "cells": [
  {
   "cell_type": "markdown",
   "metadata": {},
   "source": [
    "# First Steps Toward Inference\n",
    "\n",
    "In this document, we are taking our first steps toward inferring the maximum likelihood moderl parameters. First, we'll generate some fake data and let it evolve for one time-step under some set model parameters. We then compute the likelihood function over a range of potential parameters to see if we can find the original ones. In this simple demo we just show a 2-dimensional grid search over some possible values of $\\gamma_r$ and $\\gamma_u$, keeping other values constant. "
   ]
  },
  {
   "cell_type": "code",
   "execution_count": 1,
   "metadata": {
    "collapsed": true
   },
   "outputs": [],
   "source": [
    "from matplotlib import pyplot as plt\n",
    "import numpy as np\n",
    "from itertools import product\n",
    "from urban_growth.city_model_2 import *\n",
    "%matplotlib inline"
   ]
  },
  {
   "cell_type": "markdown",
   "metadata": {},
   "source": [
    "# Generate the Data"
   ]
  },
  {
   "cell_type": "code",
   "execution_count": 2,
   "metadata": {
    "collapsed": true
   },
   "outputs": [],
   "source": [
    "# Params\n",
    "\n",
    "## Initial Configuration\n",
    "L = 100\n",
    "rho = .44\n",
    "blur = 2\n",
    "\n",
    "## Rural/Urban Size Threshold\n",
    "T = 50\n",
    "\n",
    "## Dynamical Parameters, not assuming that these are good ones. \n",
    "\n",
    "pars = {'gamma_r' : 2.0,     # rural settlement more diffuse than urban\n",
    "        'gamma_u' : 3.0,      \n",
    "        'alpha_r' : 5.0,       \n",
    "        'alpha_u' : 5.0,\n",
    "        'beta_r'  : -10.0,      # low background rates\n",
    "        'beta_u'  : -10.0}\n",
    "\n",
    "geo = np.ones((L, L))\n",
    "\n",
    "for i in np.arange(0, L):\n",
    "    geo[:,i] = 1.0*i / L "
   ]
  },
  {
   "cell_type": "code",
   "execution_count": 3,
   "metadata": {
    "collapsed": false
   },
   "outputs": [
    {
     "name": "stdout",
     "output_type": "stream",
     "text": [
      "recalculating distances\n",
      "recalculating distances\n"
     ]
    },
    {
     "name": "stderr",
     "output_type": "stream",
     "text": [
      "urban_growth/city_model_2.py:97: RuntimeWarning: invalid value encountered in less\n",
      "  new_mat = (rands < prob) * 1\n"
     ]
    }
   ],
   "source": [
    "m = settlement_model(geo = geo)\n",
    "m.set_M0(L = L, density = rho, blur = blur)\n",
    "\n",
    "densities = m.density(T, pars, use_geo = True, stage = 'initial')\n",
    "prob = densities[0] + densities[1]\n",
    "\n",
    "M = m.dynamics(T, pars, use_geo = True, n_iters = 1)"
   ]
  },
  {
   "cell_type": "code",
   "execution_count": 4,
   "metadata": {
    "collapsed": false
   },
   "outputs": [
    {
     "name": "stderr",
     "output_type": "stream",
     "text": [
      "/usr/local/lib/python2.7/site-packages/ipykernel/__main__.py:4: RuntimeWarning: invalid value encountered in greater\n"
     ]
    }
   ],
   "source": [
    "M1 = np.zeros(M.shape)\n",
    "M1[np.isnan(M)] = 0\n",
    "M1[M == 0] = np.nan\n",
    "M1[M > 0] = 1"
   ]
  },
  {
   "cell_type": "markdown",
   "metadata": {},
   "source": [
    "## Visualize the data\n"
   ]
  },
  {
   "cell_type": "code",
   "execution_count": 5,
   "metadata": {
    "collapsed": false
   },
   "outputs": [
    {
     "data": {
      "text/plain": [
       "<matplotlib.text.Text at 0x11c33ddd0>"
      ]
     },
     "execution_count": 5,
     "metadata": {},
     "output_type": "execute_result"
    },
    {
     "data": {
      "image/png": "[encoded data removed]",
      "text/plain": [
       "<matplotlib.figure.Figure at 0x1096ac750>"
      ]
     },
     "metadata": {},
     "output_type": "display_data"
    }
   ],
   "source": [
    "fig = plt.figure(figsize = (10, 4))\n",
    "ax1 = fig.add_subplot(121)\n",
    "ax1.imshow(M1, interpolation = 'nearest')\n",
    "plt.title('Generated Data')\n",
    "\n",
    "ax2 = fig.add_subplot(122)\n",
    "ax2.imshow(prob, interpolation = 'nearest')\n",
    "plt.title('Probability Density Function for Generated Data')"
   ]
  },
  {
   "cell_type": "markdown",
   "metadata": {},
   "source": [
    "# Grid Search Over $\\gamma_r$ and $\\gamma_u$"
   ]
  },
  {
   "cell_type": "markdown",
   "metadata": {},
   "source": [
    "Now we'll evaluate the model likelihood on a range of values of $\\gamma_r$ and $\\gamma_u$ to see if we can recover their true values. "
   ]
  },
  {
   "cell_type": "code",
   "execution_count": 6,
   "metadata": {
    "collapsed": true
   },
   "outputs": [],
   "source": [
    "def test_likelihood(gamma_r, gamma_u):\n",
    "    internal_pars = pars.copy()\n",
    "    internal_pars.update({'gamma_r' : gamma_r, 'gamma_u' : gamma_u})\n",
    "    l1 = m.log_likelihood(M1, \n",
    "                 T, \n",
    "                 internal_pars, \n",
    "                 model_type = 'logistic', \n",
    "                 normalized = True, \n",
    "                 use_geo    = True)\n",
    "    return l1"
   ]
  },
  {
   "cell_type": "code",
   "execution_count": 7,
   "metadata": {
    "collapsed": false
   },
   "outputs": [
    {
     "name": "stdout",
     "output_type": "stream",
     "text": [
      "recalculating distances\n"
     ]
    },
    {
     "name": "stderr",
     "output_type": "stream",
     "text": [
      "urban_growth/city_model_2.py:132: RuntimeWarning: divide by zero encountered in log\n",
      "  ll = np.nansum(X * np.log(prob) + (1 - X) * np.log(1 - prob))\n",
      "urban_growth/city_model_2.py:132: RuntimeWarning: invalid value encountered in multiply\n",
      "  ll = np.nansum(X * np.log(prob) + (1 - X) * np.log(1 - prob))\n"
     ]
    }
   ],
   "source": [
    "npoints = 17\n",
    "ax = np.linspace(1, 5, npoints)\n",
    "coords = product(ax, ax)\n",
    "test = np.array([test_likelihood(coord[0], coord[1]) for coord in coords])"
   ]
  },
  {
   "cell_type": "code",
   "execution_count": 9,
   "metadata": {
    "collapsed": false
   },
   "outputs": [
    {
     "data": {
      "text/plain": [
       "<matplotlib.text.Text at 0x11ce1f850>"
      ]
     },
     "execution_count": 9,
     "metadata": {},
     "output_type": "execute_result"
    },
    {
     "data": {
      "image/png": "[encoded data removed]",
      "text/plain": [
       "<matplotlib.figure.Figure at 0x11cd22150>"
      ]
     },
     "metadata": {},
     "output_type": "display_data"
    }
   ],
   "source": [
    "plt.imshow(test.reshape(len(ax), len(ax)), interpolation = 'nearest')\n",
    "plt.colorbar()\n",
    "plt.gca().set(xlabel = r'$\\gamma_r$', ylabel = r'$\\gamma_u$')\n",
    "ticks = plt.xticks(range(npoints), ax, rotation='vertical')\n",
    "ticks = plt.yticks(range(npoints), ax, rotation='horizontal')\n",
    "\n",
    "plt.title(\"True parameters: \" + r'$\\gamma_r = $' + str(pars['gamma_r']) + ', ' + r'$\\gamma_u = $' + str(pars['gamma_u']))"
   ]
  },
  {
   "cell_type": "markdown",
   "metadata": {},
   "source": [
    "Overall this result is heartening -- the likelihood is indeed maximized at the true values for $\\gamma_r$ and $\\gamma_u$. It's a bit concerning that the model doesn't have a strong opinion about the correct value of $\\gamma_r$, though. \n",
    "\n",
    "The extra mathematical work comes when we want to estimate all the model parameters simultaneously and to higher levels of precision. "
   ]
  }
 ],
 "metadata": {
  "kernelspec": {
   "display_name": "Python 2",
   "language": "python",
   "name": "python2"
  },
  "language_info": {
   "codemirror_mode": {
    "name": "ipython",
    "version": 2
   },
   "file_extension": ".py",
   "mimetype": "text/x-python",
   "name": "python",
   "nbconvert_exporter": "python",
   "pygments_lexer": "ipython2",
   "version": "2.7.11"
  }
 },
 "nbformat": 4,
 "nbformat_minor": 0
}
