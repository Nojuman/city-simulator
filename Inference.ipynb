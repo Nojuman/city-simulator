{
 "cells": [
  {
   "cell_type": "code",
   "execution_count": 1,
   "metadata": {
    "collapsed": true
   },
   "outputs": [],
   "source": [
    "import numpy as np\n",
    "from matplotlib import pyplot as plt\n",
    "import pandas as pd\n",
    "import os\n",
    "from itertools import product\n",
    "\n",
    "from urban_growth.model import *\n",
    "from urban_growth.simulator import *\n",
    "from urban_growth.estimator import *\n",
    "\n",
    "%matplotlib inline"
   ]
  },
  {
   "cell_type": "markdown",
   "metadata": {},
   "source": [
    "# Construct the Control Frame"
   ]
  },
  {
   "cell_type": "code",
   "execution_count": 2,
   "metadata": {
    "collapsed": false
   },
   "outputs": [],
   "source": [
    "files = os.listdir('data')\n",
    "maps = [name for name in files if 'mask' not in name]\n",
    "control_df = pd.DataFrame({'file_name' : maps} )\n",
    "\n",
    "control_df['city'] = control_df.file_name.str[0:3]\n",
    "control_df['year_begin'] = pd.to_numeric(control_df.file_name.str[3:7])\n",
    "control_df = control_df[control_df.year_begin < 2011]\n",
    "\n",
    "def get_year_end(year):\n",
    "    if year in [1990, 2000]:\n",
    "        return year + 10\n",
    "    else:\n",
    "        return year + 5\n",
    "    \n",
    "v_gye = np.vectorize(get_year_end)\n",
    "\n",
    "control_df['year_end'] = v_gye(control_df.year_begin)\n",
    "\n",
    "control_df = control_df.drop('file_name', 1)"
   ]
  },
  {
   "cell_type": "markdown",
   "metadata": {},
   "source": [
    "# Define Params"
   ]
  },
  {
   "cell_type": "code",
   "execution_count": 3,
   "metadata": {
    "collapsed": false
   },
   "outputs": [],
   "source": [
    "# kernel params, probably won't loop over these\n",
    "L = 20 \n",
    "base_val = .4\n",
    "unit = 3.333 # pixels per km\n",
    "K = distance_kernel(L, base_val, unit)\n",
    "\n",
    "# Data processing params, no need to touch\n",
    "N_pix = 100\n",
    "\n",
    "# initial parameters, might need to loop over these\n",
    "\n",
    "par_0 = {'alpha' : np.array([100, 30]),\n",
    "        'gamma' : np.array([1.2, 2.5]),\n",
    "        'beta'  : -25}\n",
    "\n",
    "# thresholding params, will loop over these\n",
    "sigma = np.linspace(0, 5, 26)\n",
    "t     = np.linspace(0, .5, 10)"
   ]
  },
  {
   "cell_type": "markdown",
   "metadata": {},
   "source": [
    "# Run Grid Search"
   ]
  },
  {
   "cell_type": "code",
   "execution_count": 9,
   "metadata": {
    "collapsed": false
   },
   "outputs": [],
   "source": [
    "def grid_search(city, year_begin, year_end, sigma, t, par_0):\n",
    "\n",
    "    # get and clean data for given city and years\n",
    "    M0  = np.loadtxt('data/' + city + str(year_begin) + '.csv', dtype=float, delimiter=',')\n",
    "    M1  = np.loadtxt('data/' + city + str(year_end) + '.csv',   dtype=float, delimiter=',')\n",
    "    geo = np.loadtxt('data/' + city + '_mask.csv',   dtype=float, delimiter=',')\n",
    "\n",
    "    geo = 1 - geo\n",
    "    M0 = M0 * geo\n",
    "    M1 = M1 * geo\n",
    "\n",
    "    M1  = np.maximum(M0, M1)\n",
    "    \n",
    "    # initialize lists\n",
    "    \n",
    "    city_vec       = []\n",
    "    year_begin_vec = []\n",
    "    year_end_vec   = []\n",
    "    sig_vec        = []\n",
    "    t_vec          = []\n",
    "    par_0_vec      = []\n",
    "    par_vec        = []\n",
    "    ll_vec         = []\n",
    "    cov_vec        = []\n",
    "    N_eff_vec      = []\n",
    "    n_pars_vec     = []\n",
    "    AIC_vec        = []\n",
    "    rate_vec       = [] \n",
    "    bg_rate_vec    = []\n",
    "        \n",
    "        # computations\n",
    "    for sig,tau in product(sigma, t):\n",
    "        e = estimator(M0 = M0, geo = geo,  N_pix = N_pix, sigma = sig, t = tau)\n",
    "        res = e.ml(M1, K, par_0, opts = {'disp' : True}, use_grad = True)\n",
    "        \n",
    "        if t == 0:\n",
    "            n_pars = 4\n",
    "        else:\n",
    "            n_pars = 7\n",
    "        \n",
    "        ll = e.log_likelihood(K = K, M1 = M1, pars = res[0])\n",
    "        \n",
    "        N_eff = ((1 - M0) * geo * N_pix).sum()\n",
    "        settlement_rate = (M1 - M0).sum() * N_pix / N_eff\n",
    "        bg_rate = expit(res[0]['beta'])\n",
    "        \n",
    "        # updates to storage lists\n",
    "        city_vec.append(city)\n",
    "        year_begin_vec.append(year_begin)\n",
    "        year_end_vec.append(year_end)\n",
    "        sig_vec.append(sig)\n",
    "        t_vec.append(tau)\n",
    "        par_0_vec.append(par_0)\n",
    "        par_vec.append(res[0])\n",
    "        ll_vec.append(ll)\n",
    "        cov_vec.append(res[2])\n",
    "        N_eff_vec.append(N_eff)\n",
    "        n_pars_vec.append(n_pars)\n",
    "        AIC_vec.append(2 * (n_pars - ll))\n",
    "        rate_vec.append(settlement_rate)\n",
    "        bg_rate_vec.append(bg_rate)\n",
    "        \n",
    "    df = pd.DataFrame({\n",
    "        'city'       : city_vec,\n",
    "        'year_begin' : year_begin_vec,\n",
    "        'year_end'   : year_end_vec,\n",
    "        'sigma'      : sig_vec,\n",
    "        't'          : t_vec,\n",
    "        'par_0'      : par_0_vec,\n",
    "        'par'        : par_vec,\n",
    "        'll'         : ll_vec,\n",
    "        'cov'        : cov_vec,\n",
    "        'N_eff'      : N_eff_vec,\n",
    "        'n_pars'     : n_pars_vec,\n",
    "        'AIC'        : AIC_vec,\n",
    "        'settlement_rate' : rate_vec,\n",
    "        'bg_rate' : bg_rate_vec\n",
    "    })\n",
    "    \n",
    "    return df"
   ]
  },
  {
   "cell_type": "code",
   "execution_count": 10,
   "metadata": {
    "collapsed": false
   },
   "outputs": [
    {
     "name": "stdout",
     "output_type": "stream",
     "text": [
      "Optimization terminated successfully.\n",
      "         Current function value: 24.266051\n",
      "         Iterations: 55\n",
      "         Function evaluations: 88\n",
      "         Gradient evaluations: 88\n",
      "Optimization terminated successfully.\n",
      "         Current function value: 24.275317\n",
      "         Iterations: 77\n",
      "         Function evaluations: 96\n",
      "         Gradient evaluations: 96\n"
     ]
    },
    {
     "name": "stderr",
     "output_type": "stream",
     "text": [
      "urban_growth/estimator.py:32: RuntimeWarning: divide by zero encountered in divide\n",
      "  grad    =   self.N_pix*((M1-self.M0)/p-(1-M1)/(1-p))*grad\n",
      "urban_growth/estimator.py:32: RuntimeWarning: invalid value encountered in multiply\n",
      "  grad    =   self.N_pix*((M1-self.M0)/p-(1-M1)/(1-p))*grad\n"
     ]
    },
    {
     "name": "stdout",
     "output_type": "stream",
     "text": [
      "Optimization terminated successfully.\n",
      "         Current function value: 24.228357\n",
      "         Iterations: 45\n",
      "         Function evaluations: 62\n",
      "         Gradient evaluations: 60\n",
      "Optimization terminated successfully.\n",
      "         Current function value: 24.342142\n",
      "         Iterations: 68\n",
      "         Function evaluations: 93\n",
      "         Gradient evaluations: 93\n"
     ]
    }
   ],
   "source": [
    "test = grid_search('SHA', 1990, 2000, [0, 1], [.1, .5],  par_0) "
   ]
  },
  {
   "cell_type": "code",
   "execution_count": 11,
   "metadata": {
    "collapsed": false
   },
   "outputs": [
    {
     "data": {
      "text/html": [
       "<div>\n",
       "<style>\n",
       "    .dataframe thead tr:only-child th {\n",
       "        text-align: right;\n",
       "    }\n",
       "\n",
       "    .dataframe thead th {\n",
       "        text-align: left;\n",
       "    }\n",
       "\n",
       "    .dataframe tbody tr th {\n",
       "        vertical-align: top;\n",
       "    }\n",
       "</style>\n",
       "<table border=\"1\" class=\"dataframe\">\n",
       "  <thead>\n",
       "    <tr style=\"text-align: right;\">\n",
       "      <th></th>\n",
       "      <th>AIC</th>\n",
       "      <th>N_eff</th>\n",
       "      <th>bg_rate</th>\n",
       "      <th>city</th>\n",
       "      <th>cov</th>\n",
       "      <th>ll</th>\n",
       "      <th>n_pars</th>\n",
       "      <th>par</th>\n",
       "      <th>par_0</th>\n",
       "      <th>settlement_rate</th>\n",
       "      <th>sigma</th>\n",
       "      <th>t</th>\n",
       "      <th>year_begin</th>\n",
       "      <th>year_end</th>\n",
       "    </tr>\n",
       "  </thead>\n",
       "  <tbody>\n",
       "    <tr>\n",
       "      <th>0</th>\n",
       "      <td>3.736064e+06</td>\n",
       "      <td>14557623.0</td>\n",
       "      <td>0.037848</td>\n",
       "      <td>SHA</td>\n",
       "      <td>[[17053.764999, 153.054086162, -136.286222704,...</td>\n",
       "      <td>-1.868025e+06</td>\n",
       "      <td>7</td>\n",
       "      <td>{u'alpha': [41.607569304, 4.68040574644], u'be...</td>\n",
       "      <td>{u'alpha': [100, 30], u'beta': -25, u'gamma': ...</td>\n",
       "      <td>0.097764</td>\n",
       "      <td>0</td>\n",
       "      <td>0.1</td>\n",
       "      <td>1990</td>\n",
       "      <td>2000</td>\n",
       "    </tr>\n",
       "    <tr>\n",
       "      <th>1</th>\n",
       "      <td>3.739398e+06</td>\n",
       "      <td>14557623.0</td>\n",
       "      <td>0.056788</td>\n",
       "      <td>SHA</td>\n",
       "      <td>[[7.92230970477, -0.686747393768, -39.79482235...</td>\n",
       "      <td>-1.869692e+06</td>\n",
       "      <td>7</td>\n",
       "      <td>{u'alpha': [3.51204952871, 4.18842998456], u'b...</td>\n",
       "      <td>{u'alpha': [100, 30], u'beta': -25, u'gamma': ...</td>\n",
       "      <td>0.097764</td>\n",
       "      <td>0</td>\n",
       "      <td>0.5</td>\n",
       "      <td>1990</td>\n",
       "      <td>2000</td>\n",
       "    </tr>\n",
       "    <tr>\n",
       "      <th>2</th>\n",
       "      <td>3.722500e+06</td>\n",
       "      <td>14557623.0</td>\n",
       "      <td>0.032295</td>\n",
       "      <td>SHA</td>\n",
       "      <td>[[3031.4150545, 137.284538269, -25.5195801163,...</td>\n",
       "      <td>-1.861243e+06</td>\n",
       "      <td>7</td>\n",
       "      <td>{u'alpha': [34.2126156327, 5.5109861479], u'be...</td>\n",
       "      <td>{u'alpha': [100, 30], u'beta': -25, u'gamma': ...</td>\n",
       "      <td>0.097764</td>\n",
       "      <td>1</td>\n",
       "      <td>0.1</td>\n",
       "      <td>1990</td>\n",
       "      <td>2000</td>\n",
       "    </tr>\n",
       "    <tr>\n",
       "      <th>3</th>\n",
       "      <td>3.763445e+06</td>\n",
       "      <td>14557623.0</td>\n",
       "      <td>0.057797</td>\n",
       "      <td>SHA</td>\n",
       "      <td>[[49.2986041154, -2.10672610801, -16.139300328...</td>\n",
       "      <td>-1.881716e+06</td>\n",
       "      <td>7</td>\n",
       "      <td>{u'alpha': [3.63023115696, 4.27284967982], u'b...</td>\n",
       "      <td>{u'alpha': [100, 30], u'beta': -25, u'gamma': ...</td>\n",
       "      <td>0.097764</td>\n",
       "      <td>1</td>\n",
       "      <td>0.5</td>\n",
       "      <td>1990</td>\n",
       "      <td>2000</td>\n",
       "    </tr>\n",
       "  </tbody>\n",
       "</table>\n",
       "</div>"
      ],
      "text/plain": [
       "            AIC       N_eff   bg_rate city  \\\n",
       "0  3.736064e+06  14557623.0  0.037848  SHA   \n",
       "1  3.739398e+06  14557623.0  0.056788  SHA   \n",
       "2  3.722500e+06  14557623.0  0.032295  SHA   \n",
       "3  3.763445e+06  14557623.0  0.057797  SHA   \n",
       "\n",
       "                                                 cov            ll  n_pars  \\\n",
       "0  [[17053.764999, 153.054086162, -136.286222704,... -1.868025e+06       7   \n",
       "1  [[7.92230970477, -0.686747393768, -39.79482235... -1.869692e+06       7   \n",
       "2  [[3031.4150545, 137.284538269, -25.5195801163,... -1.861243e+06       7   \n",
       "3  [[49.2986041154, -2.10672610801, -16.139300328... -1.881716e+06       7   \n",
       "\n",
       "                                                 par  \\\n",
       "0  {u'alpha': [41.607569304, 4.68040574644], u'be...   \n",
       "1  {u'alpha': [3.51204952871, 4.18842998456], u'b...   \n",
       "2  {u'alpha': [34.2126156327, 5.5109861479], u'be...   \n",
       "3  {u'alpha': [3.63023115696, 4.27284967982], u'b...   \n",
       "\n",
       "                                               par_0  settlement_rate  sigma  \\\n",
       "0  {u'alpha': [100, 30], u'beta': -25, u'gamma': ...         0.097764      0   \n",
       "1  {u'alpha': [100, 30], u'beta': -25, u'gamma': ...         0.097764      0   \n",
       "2  {u'alpha': [100, 30], u'beta': -25, u'gamma': ...         0.097764      1   \n",
       "3  {u'alpha': [100, 30], u'beta': -25, u'gamma': ...         0.097764      1   \n",
       "\n",
       "     t  year_begin  year_end  \n",
       "0  0.1        1990      2000  \n",
       "1  0.5        1990      2000  \n",
       "2  0.1        1990      2000  \n",
       "3  0.5        1990      2000  "
      ]
     },
     "execution_count": 11,
     "metadata": {},
     "output_type": "execute_result"
    }
   ],
   "source": [
    "test"
   ]
  },
  {
   "cell_type": "code",
   "execution_count": null,
   "metadata": {
    "collapsed": true
   },
   "outputs": [],
   "source": []
  }
 ],
 "metadata": {
  "kernelspec": {
   "display_name": "venv",
   "language": "python",
   "name": "venv"
  },
  "language_info": {
   "codemirror_mode": {
    "name": "ipython",
    "version": 2
   },
   "file_extension": ".py",
   "mimetype": "text/x-python",
   "name": "python",
   "nbconvert_exporter": "python",
   "pygments_lexer": "ipython2",
   "version": "2.7.11"
  }
 },
 "nbformat": 4,
 "nbformat_minor": 0
}
