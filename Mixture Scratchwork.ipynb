{
 "cells": [
  {
   "cell_type": "markdown",
   "metadata": {
    "deletable": true,
    "editable": true
   },
   "source": [
    "# Mixture Modeling\n",
    "\n",
    "The idea in this case is to treat a single time-interval of urban growth as an unsupervised learning problem in which we aim to learn the mixture density giving the settlement likelihoods. \n",
    "\n",
    "One limitation of this model is that there are many more parameters to learn unless we impose a hard thresholding scheme for parameter-sharing. Another limitation is that it is much harder to learn explicitly from time-series. "
   ]
  },
  {
   "cell_type": "code",
   "execution_count": 1,
   "metadata": {
    "collapsed": false,
    "deletable": true,
    "editable": true
   },
   "outputs": [],
   "source": [
    "import numpy as np\n",
    "from urban_growth.mixture_model import *\n",
    "from matplotlib import pyplot as plt\n",
    "from scipy.spatial import distance\n",
    "%matplotlib inline"
   ]
  },
  {
   "cell_type": "code",
   "execution_count": 16,
   "metadata": {
    "collapsed": true,
    "deletable": true,
    "editable": true
   },
   "outputs": [],
   "source": [
    "# Params\n",
    "\n",
    "## Initial Configuration\n",
    "L = 50\n",
    "rho = .44\n",
    "blur = 2\n",
    "\n",
    "## Rural/Urban Size Threshold\n",
    "T = 50\n",
    "\n",
    "## Dynamical Parameters, not assuming that these are good ones. \n",
    "\n",
    "pars_1 = {'gamma_r' : 2.0,     # rural settlement more diffuse than urban\n",
    "          'gamma_u' : 2.0,      \n",
    "          'alpha_r' : .35,       \n",
    "          'alpha_u' : .35,\n",
    "          'beta_r'  : -10,      # low background rates\n",
    "          'beta_u'  : -10}\n",
    "\n",
    "truncation = None\n",
    "\n",
    "# geo = np.ones((L, L))\n",
    "\n",
    "# for i in np.arange(0, L):\n",
    "#     geo[:,i] = 1.0*i / L "
   ]
  },
  {
   "cell_type": "code",
   "execution_count": 17,
   "metadata": {
    "collapsed": false,
    "deletable": true,
    "editable": true
   },
   "outputs": [],
   "source": [
    "M0 = random_mat(L, rho, blur = blur)\n",
    "m = mixture_model(M0 = M0)\n",
    "m.make_dists()"
   ]
  },
  {
   "cell_type": "code",
   "execution_count": 18,
   "metadata": {
    "collapsed": false,
    "deletable": true,
    "editable": true
   },
   "outputs": [
    {
     "data": {
      "text/plain": [
       "<matplotlib.image.AxesImage at 0x10bd10310>"
      ]
     },
     "execution_count": 18,
     "metadata": {},
     "output_type": "execute_result"
    },
    {
     "data": {
      "image/png": "[encoded data removed]",
      "text/plain": [
       "<matplotlib.figure.Figure at 0x10b6071d0>"
      ]
     },
     "metadata": {},
     "output_type": "display_data"
    }
   ],
   "source": [
    "gamma = 1 + 2 * np.random.rand(len(m.dists))\n",
    "alpha = np.random.rand(len(m.dists))\n",
    "# alpha = np.sqrt([m.clusters[i+1].shape[0] for i in range(len(m.clusters))])\n",
    "\n",
    "M = m.density(alpha, gamma)\n",
    "\n",
    "fig = plt.figure(figsize = (10, 4))\n",
    "ax1 = fig.add_subplot(121)\n",
    "\n",
    "ax1.imshow(np.log(M), interpolation = 'nearest')\n",
    "\n",
    "ax2 = fig.add_subplot(122)\n",
    "M1 = m.sample(n_samples = 100, alpha = alpha, gamma = gamma)\n",
    "to_viz = (M1 - m.M0)*2\n",
    "to_viz[np.isnan(M)] = 1\n",
    "to_viz[to_viz == 0] = np.nan\n",
    "ax2.imshow(to_viz, interpolation = 'nearest')"
   ]
  },
  {
   "cell_type": "code",
   "execution_count": 19,
   "metadata": {
    "collapsed": false,
    "deletable": true,
    "editable": true
   },
   "outputs": [
    {
     "data": {
      "text/plain": [
       "array([-7.396, -7.427, -7.442, -7.503])"
      ]
     },
     "execution_count": 19,
     "metadata": {},
     "output_type": "execute_result"
    }
   ],
   "source": [
    "alpha_prime = np.random.rand(len(alpha))\n",
    "gamma_prime = 1 + 2 * np.random.rand(len(gamma))\n",
    "\n",
    "v1 = m.log_likelihood(M1, alpha = alpha,       gamma = gamma, normalized = True)\n",
    "v2 = m.log_likelihood(M1, alpha = alpha_prime, gamma = gamma, normalized = True)\n",
    "v3 = m.log_likelihood(M1, alpha = alpha,       gamma = gamma_prime, normalized = True)\n",
    "v4 = m.log_likelihood(M1, alpha = alpha_prime, gamma = gamma_prime, normalized = True)\n",
    "\n",
    "np.round(np.array([v1, v2, v3, v4]), 3)"
   ]
  },
  {
   "cell_type": "markdown",
   "metadata": {
    "deletable": true,
    "editable": true
   },
   "source": [
    "Conjecture: there are going to be some parameters about which the model is highly uncertain, and others about which it is quite confident. "
   ]
  },
  {
   "cell_type": "code",
   "execution_count": 25,
   "metadata": {
    "collapsed": false
   },
   "outputs": [
    {
     "name": "stdout",
     "output_type": "stream",
     "text": [
      "ll0 : -7.5\n",
      "ll  : -7.44\n",
      "ll  : -7.42\n",
      "ll  : -7.42\n",
      "ll  : -7.41\n",
      "ll  : -7.41\n",
      "ll  : -7.4\n",
      "ll  : -7.4\n",
      "ll  : -7.4\n",
      "ll  : -7.4\n",
      "ll  : -7.39\n"
     ]
    }
   ],
   "source": [
    "alpha_prime = np.random.rand(len(alpha))\n",
    "gamma_prime = 1 + 2 * np.random.rand(len(gamma))\n",
    "\n",
    "X = M1 - m.M0\n",
    "alpha_hat, gamma_hat, lik = m.EM(M1, \n",
    "                            alpha_prime, \n",
    "                            gamma_prime, \n",
    "                            verbose = True,\n",
    "                            n_iters = 10, \n",
    "                            tol = .001,\n",
    "                            eta = .01, \n",
    "                            n_inner = 20,\n",
    "                            inner_tol = .01)"
   ]
  },
  {
   "cell_type": "code",
   "execution_count": 26,
   "metadata": {
    "collapsed": false
   },
   "outputs": [
    {
     "data": {
      "text/plain": [
       "<matplotlib.text.Text at 0x10bfec0d0>"
      ]
     },
     "execution_count": 26,
     "metadata": {},
     "output_type": "execute_result"
    },
    {
     "data": {
      "image/png": "[encoded data removed]",
      "text/plain": [
       "<matplotlib.figure.Figure at 0x10b62b890>"
      ]
     },
     "metadata": {},
     "output_type": "display_data"
    }
   ],
   "source": [
    "fig = plt.figure(figsize = (10, 4))\n",
    "ax1 = fig.add_subplot(121)\n",
    "ax1.scatter(gamma, gamma_hat)\n",
    "plt.title(r'$\\gamma$')\n",
    "\n",
    "ax2 = fig.add_subplot(122)\n",
    "ax2.scatter(alpha, alpha_hat)\n",
    "plt.title(r'$\\alpha$')"
   ]
  },
  {
   "cell_type": "code",
   "execution_count": 27,
   "metadata": {
    "collapsed": false
   },
   "outputs": [
    {
     "data": {
      "text/plain": [
       "<matplotlib.text.Text at 0x10bfb8390>"
      ]
     },
     "execution_count": 27,
     "metadata": {},
     "output_type": "execute_result"
    },
    {
     "data": {
      "image/png": "[encoded data removed]",
      "text/plain": [
       "<matplotlib.figure.Figure at 0x10c097190>"
      ]
     },
     "metadata": {},
     "output_type": "display_data"
    }
   ],
   "source": [
    "fig = plt.figure(figsize = (12, 5))\n",
    "\n",
    "d0 = np.log(m.density(alpha, gamma))\n",
    "d1 = np.log(m.density(alpha_prime, gamma_prime))\n",
    "d2 = np.log(m.density(alpha_hat, gamma_hat))\n",
    "\n",
    "lik_initial = m.log_likelihood(M1, \n",
    "                               alpha = alpha_prime, \n",
    "                               gamma = gamma_prime, \n",
    "                               normalized = True)\n",
    "\n",
    "vmax, vmin = np.nanmax((d0, d1, d2)), np.nanmin((d0, d1, d2))\n",
    "\n",
    "ax1 = fig.add_subplot(131)\n",
    "ax1.imshow(d0, interpolation = 'nearest', vmax = vmax, vmin = vmin)\n",
    "plt.title('true')\n",
    "\n",
    "ax2 = fig.add_subplot(132)\n",
    "ax2.imshow(d1, interpolation = 'nearest', vmax = vmax, vmin = vmin)\n",
    "plt.title('starting, ll = ' + str(np.round(lik_initial, 3)))\n",
    "\n",
    "ax3 = fig.add_subplot(133)\n",
    "ax3.imshow(d2, interpolation = 'nearest', vmax = vmax, vmin = vmin)\n",
    "plt.title('estimated, ll = ' + str(np.round(lik, 3)))"
   ]
  }
 ],
 "metadata": {
  "kernelspec": {
   "display_name": "Python 2",
   "language": "python",
   "name": "python2"
  },
  "language_info": {
   "codemirror_mode": {
    "name": "ipython",
    "version": 2
   },
   "file_extension": ".py",
   "mimetype": "text/x-python",
   "name": "python",
   "nbconvert_exporter": "python",
   "pygments_lexer": "ipython2",
   "version": "2.7.11"
  }
 },
 "nbformat": 4,
 "nbformat_minor": 0
}
