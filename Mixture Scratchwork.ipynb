{
 "cells": [
  {
   "cell_type": "markdown",
   "metadata": {},
   "source": [
    "# Mixture Modeling\n",
    "\n",
    "The idea in this case is to treat a single time-interval of urban growth as an unsupervised learning problem in which we aim to learn the mixture density giving the settlement likelihoods. \n",
    "\n",
    "One limitation of this model is that there are many more parameters to learn unless we impose a hard thresholding scheme for parameter-sharing. Another limitation is that it is much harder to learn explicitly from time-series. "
   ]
  },
  {
   "cell_type": "code",
   "execution_count": 1,
   "metadata": {
    "collapsed": false,
    "deletable": true,
    "editable": true
   },
   "outputs": [],
   "source": [
    "import numpy as np\n",
    "from urban_growth.mixture_model import *\n",
    "from matplotlib import pyplot as plt\n",
    "from scipy.spatial import distance\n",
    "%matplotlib inline"
   ]
  },
  {
   "cell_type": "code",
   "execution_count": 2,
   "metadata": {
    "collapsed": true,
    "deletable": true,
    "editable": true
   },
   "outputs": [],
   "source": [
    "# Params\n",
    "\n",
    "## Initial Configuration\n",
    "L = 100\n",
    "rho = .44\n",
    "blur = 2\n",
    "\n",
    "## Rural/Urban Size Threshold\n",
    "T = 50\n",
    "\n",
    "## Dynamical Parameters, not assuming that these are good ones. \n",
    "\n",
    "pars_1 = {'gamma_r' : 2.0,     # rural settlement more diffuse than urban\n",
    "          'gamma_u' : 2.0,      \n",
    "          'alpha_r' : .35,       \n",
    "          'alpha_u' : .35,\n",
    "          'beta_r'  : -10,      # low background rates\n",
    "          'beta_u'  : -10}\n",
    "\n",
    "truncation = None\n",
    "\n",
    "geo = np.ones((L, L))\n",
    "\n",
    "for i in np.arange(0, L):\n",
    "    geo[:,i] = 1.0*i / L "
   ]
  },
  {
   "cell_type": "code",
   "execution_count": 3,
   "metadata": {
    "collapsed": false,
    "deletable": true,
    "editable": true
   },
   "outputs": [],
   "source": [
    "M0 = random_mat(L, rho, blur = blur)\n",
    "m = mixture_model(M0 = M0, geo = geo)\n",
    "m.make_dists()"
   ]
  },
  {
   "cell_type": "code",
   "execution_count": 4,
   "metadata": {
    "collapsed": false,
    "deletable": true,
    "editable": true
   },
   "outputs": [
    {
     "data": {
      "text/plain": [
       "<matplotlib.image.AxesImage at 0x114ceeb50>"
      ]
     },
     "execution_count": 4,
     "metadata": {},
     "output_type": "execute_result"
    },
    {
     "data": {
      "image/png": "[encoded data removed]",
      "text/plain": [
       "<matplotlib.figure.Figure at 0x10e885fd0>"
      ]
     },
     "metadata": {},
     "output_type": "display_data"
    }
   ],
   "source": [
    "gamma = 2 + np.random.rand(len(m.dists))\n",
    "alpha = np.random.rand(len(m.dists))\n",
    "# alpha = np.sqrt([m.clusters[i+1].shape[0] for i in range(len(m.clusters))])\n",
    "\n",
    "M = m.density(alpha, gamma)\n",
    "\n",
    "fig = plt.figure(figsize = (10, 4))\n",
    "ax1 = fig.add_subplot(121)\n",
    "\n",
    "ax1.imshow(M, interpolation = 'nearest')\n",
    "\n",
    "ax2 = fig.add_subplot(122)\n",
    "x = m.sample(n_samples = 1000, alpha = alpha, gamma = gamma)\n",
    "to_viz = (x - m.M0)*2\n",
    "to_viz[np.isnan(M)] = 1\n",
    "to_viz[to_viz == 0] = np.nan\n",
    "ax2.imshow(to_viz, interpolation = 'nearest')"
   ]
  },
  {
   "cell_type": "code",
   "execution_count": 5,
   "metadata": {
    "collapsed": false
   },
   "outputs": [
    {
     "name": "stderr",
     "output_type": "stream",
     "text": [
      "urban_growth/mixture_model.py:94: RuntimeWarning: divide by zero encountered in log\n",
      "  lik = np.nansum((np.log(d) * X))\n",
      "urban_growth/mixture_model.py:94: RuntimeWarning: invalid value encountered in multiply\n",
      "  lik = np.nansum((np.log(d) * X))\n"
     ]
    },
    {
     "data": {
      "text/plain": [
       "array([-8.535, -8.738, -8.551, -8.787,  6.384,  4.972])"
      ]
     },
     "execution_count": 5,
     "metadata": {},
     "output_type": "execute_result"
    }
   ],
   "source": [
    "alpha_prime = np.random.rand(len(alpha))\n",
    "gamma_prime = 2 + np.random.rand(len(gamma))\n",
    "\n",
    "v1 = m.log_likelihood(x, alpha = alpha, gamma = gamma, normalized = True)\n",
    "v2 = m.log_likelihood(x, alpha = alpha_prime, gamma = gamma, normalized = True)\n",
    "v3 = m.log_likelihood(x, alpha = alpha, gamma = gamma_prime, normalized = True)\n",
    "v4 = m.log_likelihood(x, alpha = alpha_prime, gamma = gamma_prime, normalized = True)\n",
    "\n",
    "np.round(np.array([v1, v2, v3, v4, np.sum((alpha_prime - alpha) ** 2),np.sum((gamma_prime - gamma) ** 2) ]), 3)"
   ]
  },
  {
   "cell_type": "markdown",
   "metadata": {},
   "source": [
    "Conjecture: there are going to be some parameters about which the model is highly uncertain, and others about which it is quite confident. "
   ]
  },
  {
   "cell_type": "markdown",
   "metadata": {},
   "source": [
    "# E Step"
   ]
  },
  {
   "cell_type": "code",
   "execution_count": 6,
   "metadata": {
    "collapsed": false
   },
   "outputs": [
    {
     "name": "stderr",
     "output_type": "stream",
     "text": [
      "urban_growth/mixture_model.py:101: RuntimeWarning: invalid value encountered in divide\n",
      "  self.Q = p / p.sum(axis = 0)\n"
     ]
    }
   ],
   "source": [
    "m.E_step(alpha = alpha, gamma = gamma)"
   ]
  },
  {
   "cell_type": "code",
   "execution_count": 7,
   "metadata": {
    "collapsed": false
   },
   "outputs": [
    {
     "data": {
      "text/plain": [
       "<matplotlib.colorbar.Colorbar at 0x115084e50>"
      ]
     },
     "execution_count": 7,
     "metadata": {},
     "output_type": "execute_result"
    },
    {
     "data": {
      "image/png": "[encoded data removed]",
      "text/plain": [
       "<matplotlib.figure.Figure at 0x10e874e10>"
      ]
     },
     "metadata": {},
     "output_type": "display_data"
    }
   ],
   "source": [
    "plt.imshow(m.Q[19], interpolation = 'nearest', vmin = 0, vmax = 1)\n",
    "plt.colorbar()"
   ]
  },
  {
   "cell_type": "code",
   "execution_count": null,
   "metadata": {
    "collapsed": true
   },
   "outputs": [],
   "source": []
  }
 ],
 "metadata": {
  "kernelspec": {
   "display_name": "Python 2",
   "language": "python",
   "name": "python2"
  },
  "language_info": {
   "codemirror_mode": {
    "name": "ipython",
    "version": 2
   },
   "file_extension": ".py",
   "mimetype": "text/x-python",
   "name": "python",
   "nbconvert_exporter": "python",
   "pygments_lexer": "ipython2",
   "version": "2.7.11"
  }
 },
 "nbformat": 4,
 "nbformat_minor": 0
}
