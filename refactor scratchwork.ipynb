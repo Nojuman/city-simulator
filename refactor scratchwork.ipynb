{
 "cells": [
  {
   "cell_type": "code",
   "execution_count": 1,
   "metadata": {
    "collapsed": false
   },
   "outputs": [],
   "source": [
    "from urban_growth.simulator import *\n",
    "from urban_growth.estimator import *\n",
    "from scipy.optimize import approx_fprime\n",
    "import numpy as np\n",
    "\n",
    "from matplotlib import pyplot as plt\n",
    "%matplotlib inline"
   ]
  },
  {
   "cell_type": "markdown",
   "metadata": {},
   "source": [
    "# Generate Some Data"
   ]
  },
  {
   "cell_type": "code",
   "execution_count": 2,
   "metadata": {
    "collapsed": true
   },
   "outputs": [],
   "source": [
    "# Initial Configuration\n",
    "L = 300\n",
    "rho = .47\n",
    "blur = 3\n",
    "\n",
    "# model type\n",
    "model = 'linear_mixture'\n",
    "\n",
    "# rural-to-urban threshold\n",
    "T_vec = [100]\n",
    "\n",
    "# dynamical parameters\n",
    "\n",
    "pars = {'alpha' : np.array([9, 9]),\n",
    "        'pi'    : np.array([.3, .7]),\n",
    "        'gamma' : np.array([3.0, 4.8])\n",
    "       }\n",
    "\n",
    "model = 'linear'"
   ]
  },
  {
   "cell_type": "code",
   "execution_count": 3,
   "metadata": {
    "collapsed": false
   },
   "outputs": [
    {
     "name": "stdout",
     "output_type": "stream",
     "text": [
      "Step 1 completed\n"
     ]
    },
    {
     "data": {
      "text/plain": [
       "<matplotlib.image.AxesImage at 0x10d403790>"
      ]
     },
     "execution_count": 3,
     "metadata": {},
     "output_type": "execute_result"
    },
    {
     "data": {
      "image/png": "[encoded data removed]",
      "text/plain": [
       "<matplotlib.figure.Figure at 0x1080b74d0>"
      ]
     },
     "metadata": {},
     "output_type": "display_data"
    }
   ],
   "source": [
    "M0 = random_mat(L, rho, blur = blur)\n",
    "m = simulator(M0 = M0, model = model)\n",
    "\n",
    "M1 = m.dynamics(T_vec = T_vec,\n",
    "                n_iters = 1, \n",
    "                verbose = True,  \n",
    "                **pars)\n",
    "\n",
    "X = M1 - m.M0\n",
    "X[m.M0 == 1] = np.nan\n",
    "plt.imshow(X, interpolation = 'nearest', cmap = 'cool')"
   ]
  },
  {
   "cell_type": "markdown",
   "metadata": {},
   "source": [
    "# First Steps Toward Inference"
   ]
  },
  {
   "cell_type": "markdown",
   "metadata": {},
   "source": [
    "## Initialize Estimator "
   ]
  },
  {
   "cell_type": "code",
   "execution_count": 4,
   "metadata": {
    "collapsed": true
   },
   "outputs": [],
   "source": [
    "e = estimator(M0 = M0, model = model)\n",
    "e.update_morphology()\n",
    "e.partition_clusters(T_vec)\n",
    "e.make_dist_array(trunc = 50)"
   ]
  },
  {
   "cell_type": "code",
   "execution_count": 5,
   "metadata": {
    "collapsed": false
   },
   "outputs": [
    {
     "name": "stderr",
     "output_type": "stream",
     "text": [
      "urban_growth/estimator.py:24: RuntimeWarning: divide by zero encountered in log\n",
      "  ll = np.nansum(X*np.log(d)+(1-X)*np.log(1-d))\n"
     ]
    },
    {
     "data": {
      "text/plain": [
       "-0.14673102667721577"
      ]
     },
     "execution_count": 5,
     "metadata": {},
     "output_type": "execute_result"
    }
   ],
   "source": [
    "e.log_likelihood(X, normalized = True, **pars)"
   ]
  },
  {
   "cell_type": "markdown",
   "metadata": {},
   "source": [
    "# Gradients"
   ]
  },
  {
   "cell_type": "code",
   "execution_count": 6,
   "metadata": {
    "collapsed": false
   },
   "outputs": [
    {
     "data": {
      "text/plain": [
       "array([[ -8.32667268e-06,   5.27355937e-05],\n",
       "       [  2.80331314e-04,  -3.77475828e-04],\n",
       "       [ -3.30291350e-04,   6.35602682e-04]])"
      ]
     },
     "execution_count": 6,
     "metadata": {},
     "output_type": "execute_result"
    }
   ],
   "source": [
    "def f(v):\n",
    "    arr = from_vec(v, model)\n",
    "    pars = from_array(arr, model)\n",
    "    return e.log_likelihood(X, normalized = True, **pars)\n",
    "\n",
    "v = to_vec(to_array(pars, model))\n",
    "true_grad = from_vec(approx_fprime(v, f, .00000000001), model)\n",
    "true_grad"
   ]
  },
  {
   "cell_type": "code",
   "execution_count": 7,
   "metadata": {
    "collapsed": false
   },
   "outputs": [
    {
     "data": {
      "text/plain": [
       "array([[ -1.11026124e-05,   4.91081429e-05],\n",
       "       [  2.79983260e-04,  -3.77446787e-04],\n",
       "       [ -3.33078371e-04,   6.31390408e-04]])"
      ]
     },
     "execution_count": 7,
     "metadata": {},
     "output_type": "execute_result"
    }
   ],
   "source": [
    "pars = from_array(from_vec(v, model), model)\n",
    "\n",
    "ll, computed_grad = e.log_likelihood(X, \n",
    "                                     normalized = True, \n",
    "                                     use_grad = True, \n",
    "                                     **pars)\n",
    "computed_grad"
   ]
  },
  {
   "cell_type": "code",
   "execution_count": 8,
   "metadata": {
    "collapsed": false
   },
   "outputs": [
    {
     "data": {
      "text/plain": [
       "array([[ 0.00624622,  0.        ],\n",
       "       [-0.08872842,  0.        ],\n",
       "       [ 0.        ,  0.        ]])"
      ]
     },
     "execution_count": 8,
     "metadata": {},
     "output_type": "execute_result"
    }
   ],
   "source": [
    "a, b = 10, 10\n",
    "def g(v):\n",
    "    arr = from_vec(v, model)\n",
    "    pars = from_array(arr, model)\n",
    "    return linear_components(e, \n",
    "                             pars['alpha'], \n",
    "                             pars['gamma'])[0, a, b]\n",
    "\n",
    "true_grad = from_vec(approx_fprime(v, g, .00000001), model)\n",
    "true_grad"
   ]
  },
  {
   "cell_type": "code",
   "execution_count": 9,
   "metadata": {
    "collapsed": false
   },
   "outputs": [],
   "source": [
    "c, computed_grad = linear_components(e, \n",
    "                             pars['alpha'], \n",
    "                             pars['gamma'], use_grad = True)"
   ]
  },
  {
   "cell_type": "code",
   "execution_count": 10,
   "metadata": {
    "collapsed": false
   },
   "outputs": [
    {
     "data": {
      "text/plain": [
       "-0.08872843192338245"
      ]
     },
     "execution_count": 10,
     "metadata": {},
     "output_type": "execute_result"
    }
   ],
   "source": [
    "computed_grad[1, 0, a, b]"
   ]
  },
  {
   "cell_type": "markdown",
   "metadata": {},
   "source": [
    "# Maximum Likelihood Estimation (Brute Force)"
   ]
  },
  {
   "cell_type": "code",
   "execution_count": 14,
   "metadata": {
    "collapsed": false
   },
   "outputs": [
    {
     "name": "stdout",
     "output_type": "stream",
     "text": [
      "Optimization terminated successfully.\n",
      "         Current function value: 0.146721\n",
      "         Iterations: 34\n",
      "         Function evaluations: 41\n",
      "         Gradient evaluations: 41\n",
      "Optimization terminated successfully.\n",
      "         Current function value: 0.146721\n",
      "         Iterations: 34\n",
      "         Function evaluations: 41\n",
      "         Gradient evaluations: 41\n",
      "Optimization terminated successfully.\n",
      "         Current function value: 0.146721\n",
      "         Iterations: 34\n",
      "         Function evaluations: 41\n",
      "         Gradient evaluations: 41\n",
      "Optimization terminated successfully.\n",
      "         Current function value: 0.146721\n",
      "         Iterations: 34\n",
      "         Function evaluations: 41\n",
      "         Gradient evaluations: 41\n",
      "1 loop, best of 3: 8.14 s per loop\n"
     ]
    }
   ],
   "source": [
    "%%timeit\n",
    "\n",
    "pars_0 = {'alpha' : np.array([2, 9]),\n",
    "          'pi'    : np.array([.7, .3]),\n",
    "          'gamma' : np.array([2.5, 2.8])\n",
    "       }\n",
    "\n",
    "pars_hat, ll, h_inv = e.ML(X, \n",
    "                           pars_0, \n",
    "                           use_grad = True, \n",
    "                           opts = {'disp' : True}) "
   ]
  },
  {
   "cell_type": "code",
   "execution_count": null,
   "metadata": {
    "collapsed": true
   },
   "outputs": [],
   "source": []
  }
 ],
 "metadata": {
  "kernelspec": {
   "display_name": "Python 2",
   "language": "python",
   "name": "python2"
  },
  "language_info": {
   "codemirror_mode": {
    "name": "ipython",
    "version": 2
   },
   "file_extension": ".py",
   "mimetype": "text/x-python",
   "name": "python",
   "nbconvert_exporter": "python",
   "pygments_lexer": "ipython2",
   "version": "2.7.11"
  }
 },
 "nbformat": 4,
 "nbformat_minor": 0
}
