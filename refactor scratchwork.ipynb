{
 "cells": [
  {
   "cell_type": "code",
   "execution_count": 1,
   "metadata": {
    "collapsed": false,
    "deletable": true,
    "editable": true
   },
   "outputs": [],
   "source": [
    "from urban_growth.simulator import *\n",
    "from urban_growth.estimator import *\n",
    "from scipy.optimize import approx_fprime\n",
    "import numpy as np\n",
    "\n",
    "from matplotlib import pyplot as plt\n",
    "%matplotlib inline"
   ]
  },
  {
   "cell_type": "markdown",
   "metadata": {
    "deletable": true,
    "editable": true
   },
   "source": [
    "# Generate Some Data"
   ]
  },
  {
   "cell_type": "code",
   "execution_count": 37,
   "metadata": {
    "collapsed": false,
    "deletable": true,
    "editable": true
   },
   "outputs": [],
   "source": [
    "# Initial Configuration\n",
    "L = 100\n",
    "rho = .47\n",
    "blur = 3\n",
    "\n",
    "# model type\n",
    "model = 'logistic'\n",
    "\n",
    "# rural-to-urban threshold\n",
    "T_vec = [100]\n",
    "\n",
    "# dynamical parameters\n",
    "\n",
    "pars = {'alpha' : np.array([100, 200]),\n",
    "#         'pi'    : np.array([.3, .7]),\n",
    "        'gamma' : np.array([2.0, 2.8]),\n",
    "        'beta' : np.array([-10])\n",
    "       }"
   ]
  },
  {
   "cell_type": "code",
   "execution_count": 38,
   "metadata": {
    "collapsed": false,
    "deletable": true,
    "editable": true
   },
   "outputs": [
    {
     "name": "stdout",
     "output_type": "stream",
     "text": [
      "Step 1 completed\n"
     ]
    },
    {
     "data": {
      "text/plain": [
       "<matplotlib.image.AxesImage at 0x113d4c550>"
      ]
     },
     "execution_count": 38,
     "metadata": {},
     "output_type": "execute_result"
    },
    {
     "data": {
      "image/png": "[encoded data removed]",
      "text/plain": [
       "<matplotlib.figure.Figure at 0x125825290>"
      ]
     },
     "metadata": {},
     "output_type": "display_data"
    }
   ],
   "source": [
    "M0 = random_mat(L, rho, blur = blur)\n",
    "m = simulator(M0 = M0, model = model)\n",
    "\n",
    "M1 = m.dynamics(T_vec = T_vec,\n",
    "                n_iters = 1, \n",
    "                verbose = True,  \n",
    "                **pars)\n",
    "\n",
    "X = M1 - m.M0\n",
    "X[m.M0 == 1] = np.nan\n",
    "plt.imshow(X, interpolation = 'nearest', cmap = 'cool')"
   ]
  },
  {
   "cell_type": "markdown",
   "metadata": {
    "deletable": true,
    "editable": true
   },
   "source": [
    "# First Steps Toward Inference"
   ]
  },
  {
   "cell_type": "markdown",
   "metadata": {
    "deletable": true,
    "editable": true
   },
   "source": [
    "## Initialize Estimator "
   ]
  },
  {
   "cell_type": "code",
   "execution_count": 39,
   "metadata": {
    "collapsed": true,
    "deletable": true,
    "editable": true
   },
   "outputs": [],
   "source": [
    "e = estimator(M0 = M0, model = model)\n",
    "e.update_morphology()\n",
    "e.partition_clusters(T_vec)\n",
    "e.make_dist_array(trunc = 50)"
   ]
  },
  {
   "cell_type": "code",
   "execution_count": 40,
   "metadata": {
    "collapsed": false,
    "deletable": true,
    "editable": true
   },
   "outputs": [
    {
     "name": "stderr",
     "output_type": "stream",
     "text": [
      "urban_growth/estimator.py:20: RuntimeWarning: divide by zero encountered in log\n",
      "  ll = np.nansum(X*np.log(d)+(1-X)*np.log(1-d))\n",
      "urban_growth/estimator.py:20: RuntimeWarning: invalid value encountered in multiply\n",
      "  ll = np.nansum(X*np.log(d)+(1-X)*np.log(1-d))\n"
     ]
    },
    {
     "data": {
      "text/plain": [
       "-0.14218032584494961"
      ]
     },
     "execution_count": 40,
     "metadata": {},
     "output_type": "execute_result"
    }
   ],
   "source": [
    "e.logistic_log_likelihood(X, normalized = True, use_grad = False, **pars)"
   ]
  },
  {
   "cell_type": "code",
   "execution_count": 41,
   "metadata": {
    "collapsed": false
   },
   "outputs": [
    {
     "name": "stdout",
     "output_type": "stream",
     "text": [
      "Optimization terminated successfully.\n",
      "         Current function value: 0.141803\n",
      "         Iterations: 81\n",
      "         Function evaluations: 88\n",
      "         Gradient evaluations: 88\n"
     ]
    },
    {
     "name": "stderr",
     "output_type": "stream",
     "text": [
      "urban_growth/estimator.py:22: RuntimeWarning: invalid value encountered in divide\n",
      "  coef = X / d - (1 - X) / (1 - d)\n"
     ]
    }
   ],
   "source": [
    "pars_0 = {'alpha' : np.array([50, 80]),\n",
    "          'gamma' : np.array([3.5, 2.8]), \n",
    "          'beta'  : np.array([-2])\n",
    "       }\n",
    "\n",
    "pars_hat, ll_hat, h_inv = e.logistic_ML(X, pars_0, use_grad = True, opts = {'disp' : True})"
   ]
  },
  {
   "cell_type": "code",
   "execution_count": 42,
   "metadata": {
    "collapsed": false
   },
   "outputs": [
    {
     "data": {
      "text/plain": [
       "array([  93.454 ,  197.4446,    2.0879,    2.8303,   -9.3882])"
      ]
     },
     "execution_count": 42,
     "metadata": {},
     "output_type": "execute_result"
    }
   ],
   "source": [
    "np.set_printoptions(precision=4)\n",
    "pars_hat"
   ]
  },
  {
   "cell_type": "code",
   "execution_count": 43,
   "metadata": {
    "collapsed": false
   },
   "outputs": [
    {
     "data": {
      "text/plain": [
       "<matplotlib.colorbar.Colorbar at 0x1170b3c50>"
      ]
     },
     "execution_count": 43,
     "metadata": {},
     "output_type": "execute_result"
    },
    {
     "data": {
      "image/png": "[encoded data removed]",
      "text/plain": [
       "<matplotlib.figure.Figure at 0x113c25990>"
      ]
     },
     "metadata": {},
     "output_type": "display_data"
    }
   ],
   "source": [
    "plt.imshow(h_inv / np.nansum(np.isfinite(X)), interpolation='nearest')\n",
    "plt.colorbar()"
   ]
  },
  {
   "cell_type": "code",
   "execution_count": 44,
   "metadata": {
    "collapsed": false
   },
   "outputs": [
    {
     "data": {
      "text/plain": [
       "array([[  1.78e+01,   1.30e+01,  -1.60e-01,  -3.00e-02,  -1.48e+00],\n",
       "       [  1.30e+01,   1.40e+02,  -1.20e-01,   4.10e-01,  -7.50e-01],\n",
       "       [ -1.60e-01,  -1.20e-01,   0.00e+00,   0.00e+00,   1.00e-02],\n",
       "       [ -3.00e-02,   4.10e-01,   0.00e+00,   0.00e+00,   0.00e+00],\n",
       "       [ -1.48e+00,  -7.50e-01,   1.00e-02,   0.00e+00,   1.30e-01]])"
      ]
     },
     "execution_count": 44,
     "metadata": {},
     "output_type": "execute_result"
    }
   ],
   "source": [
    "np.set_printoptions(precision=2)\n",
    "np.around(h_inv / np.nansum(np.isfinite(X)), 2)"
   ]
  },
  {
   "cell_type": "code",
   "execution_count": 45,
   "metadata": {
    "collapsed": true
   },
   "outputs": [],
   "source": [
    "c, d_pars = linear_components(m, pars['alpha'], pars['gamma'], use_grad = True)"
   ]
  },
  {
   "cell_type": "markdown",
   "metadata": {
    "deletable": true,
    "editable": true
   },
   "source": [
    "# Gradients"
   ]
  },
  {
   "cell_type": "code",
   "execution_count": null,
   "metadata": {
    "collapsed": false,
    "deletable": true,
    "editable": true
   },
   "outputs": [],
   "source": [
    "def f(v):\n",
    "    arr = from_vec(v, model)\n",
    "    pars = from_array(arr, model)\n",
    "    return e.log_likelihood(X, normalized = True, **pars)\n",
    "\n",
    "v = to_vec(to_array(pars, model))\n",
    "true_grad = from_vec(approx_fprime(v, f, .00000000001), model)\n",
    "true_grad"
   ]
  },
  {
   "cell_type": "code",
   "execution_count": null,
   "metadata": {
    "collapsed": false,
    "deletable": true,
    "editable": true
   },
   "outputs": [],
   "source": [
    "pars = from_array(from_vec(v, model), model)\n",
    "\n",
    "ll, computed_grad = e.log_likelihood(X, \n",
    "                                     normalized = True, \n",
    "                                     use_grad = True, \n",
    "                                     **pars)\n",
    "computed_grad"
   ]
  },
  {
   "cell_type": "code",
   "execution_count": null,
   "metadata": {
    "collapsed": false,
    "deletable": true,
    "editable": true
   },
   "outputs": [],
   "source": [
    "a, b = 10, 10\n",
    "def g(v):\n",
    "    arr = from_vec(v, model)\n",
    "    pars = from_array(arr, model)\n",
    "    return linear_components(e, \n",
    "                             pars['alpha'], \n",
    "                             pars['gamma'])[0, a, b]\n",
    "\n",
    "true_grad = from_vec(approx_fprime(v, g, .00000001), model)\n",
    "true_grad"
   ]
  },
  {
   "cell_type": "code",
   "execution_count": null,
   "metadata": {
    "collapsed": false,
    "deletable": true,
    "editable": true
   },
   "outputs": [],
   "source": [
    "c, computed_grad = linear_components(e, \n",
    "                             pars['alpha'], \n",
    "                             pars['gamma'], use_grad = True)"
   ]
  },
  {
   "cell_type": "code",
   "execution_count": null,
   "metadata": {
    "collapsed": false,
    "deletable": true,
    "editable": true
   },
   "outputs": [],
   "source": [
    "computed_grad[1, 0, a, b]"
   ]
  },
  {
   "cell_type": "markdown",
   "metadata": {
    "deletable": true,
    "editable": true
   },
   "source": [
    "# Maximum Likelihood Estimation (Brute Force)"
   ]
  },
  {
   "cell_type": "code",
   "execution_count": null,
   "metadata": {
    "collapsed": false,
    "deletable": true,
    "editable": true
   },
   "outputs": [],
   "source": [
    "%%timeit\n",
    "\n",
    "pars_0 = {'alpha' : np.array([2, 9]),\n",
    "          'pi'    : np.array([.7, .3]),\n",
    "          'gamma' : np.array([2.5, 2.8])\n",
    "       }\n",
    "\n",
    "pars_hat, ll, h_inv = e.ML(X, \n",
    "                           pars_0, \n",
    "                           use_grad = True, \n",
    "                           opts = {'disp' : True}) "
   ]
  },
  {
   "cell_type": "code",
   "execution_count": null,
   "metadata": {
    "collapsed": true,
    "deletable": true,
    "editable": true
   },
   "outputs": [],
   "source": []
  }
 ],
 "metadata": {
  "kernelspec": {
   "display_name": "Python 2",
   "language": "python",
   "name": "python2"
  },
  "language_info": {
   "codemirror_mode": {
    "name": "ipython",
    "version": 2
   },
   "file_extension": ".py",
   "mimetype": "text/x-python",
   "name": "python",
   "nbconvert_exporter": "python",
   "pygments_lexer": "ipython2",
   "version": "2.7.11"
  }
 },
 "nbformat": 4,
 "nbformat_minor": 0
}
