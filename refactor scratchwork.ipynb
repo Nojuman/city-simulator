{
 "cells": [
  {
   "cell_type": "code",
   "execution_count": 1,
   "metadata": {
    "collapsed": false,
    "deletable": true,
    "editable": true
   },
   "outputs": [],
   "source": [
    "from urban_growth.simulator import *\n",
    "from urban_growth.estimator import *\n",
    "from scipy.optimize import approx_fprime\n",
    "import numpy as np\n",
    "\n",
    "from matplotlib import pyplot as plt\n",
    "%matplotlib inline"
   ]
  },
  {
   "cell_type": "markdown",
   "metadata": {
    "deletable": true,
    "editable": true
   },
   "source": [
    "# Generate Some Data"
   ]
  },
  {
   "cell_type": "code",
   "execution_count": 44,
   "metadata": {
    "collapsed": false,
    "deletable": true,
    "editable": true
   },
   "outputs": [],
   "source": [
    "# Initial Configuration\n",
    "L = 100\n",
    "rho = .47\n",
    "blur = 3\n",
    "\n",
    "# model type\n",
    "model = 'logistic'\n",
    "\n",
    "# rural-to-urban threshold\n",
    "T_vec = [100]\n",
    "\n",
    "# dynamical parameters\n",
    "\n",
    "pars = {'alpha' : np.array([140, 30]),\n",
    "#         'pi'    : np.array([.3, .7]),\n",
    "        'gamma' : np.array([1.0, 2.8]),\n",
    "        'beta' : np.array([-10])\n",
    "       }\n",
    "\n",
    "\n",
    "geo = np.ones((L, L))\n",
    "\n",
    "# for i in np.arange(0, L):\n",
    "#     geo[:,i] = 1.0*i / L "
   ]
  },
  {
   "cell_type": "code",
   "execution_count": 45,
   "metadata": {
    "collapsed": false,
    "deletable": true,
    "editable": true
   },
   "outputs": [
    {
     "name": "stdout",
     "output_type": "stream",
     "text": [
      "Step 1 completed\n"
     ]
    },
    {
     "data": {
      "text/plain": [
       "<matplotlib.image.AxesImage at 0x10c31cf50>"
      ]
     },
     "execution_count": 45,
     "metadata": {},
     "output_type": "execute_result"
    },
    {
     "data": {
      "image/png": "[encoded data removed]",
      "text/plain": [
       "<matplotlib.figure.Figure at 0x10bde9050>"
      ]
     },
     "metadata": {},
     "output_type": "display_data"
    }
   ],
   "source": [
    "M0 = random_mat(L, rho, blur = blur)\n",
    "m = simulator(M0 = M0, geo = geo, model = model)\n",
    "\n",
    "M1 = m.dynamics(T_vec = T_vec,\n",
    "                n_iters = 1, \n",
    "                verbose = True,  \n",
    "                **pars)\n",
    "\n",
    "X = M1 - m.M0\n",
    "X[m.M0 == 1] = np.nan\n",
    "plt.imshow(X, interpolation = 'nearest', cmap = 'cool')"
   ]
  },
  {
   "cell_type": "markdown",
   "metadata": {
    "deletable": true,
    "editable": true
   },
   "source": [
    "# First Steps Toward Inference"
   ]
  },
  {
   "cell_type": "markdown",
   "metadata": {
    "deletable": true,
    "editable": true
   },
   "source": [
    "## Initialize Estimator "
   ]
  },
  {
   "cell_type": "code",
   "execution_count": 46,
   "metadata": {
    "collapsed": true,
    "deletable": true,
    "editable": true
   },
   "outputs": [],
   "source": [
    "e = estimator(M0 = M0, geo = geo, model = model)\n",
    "e.update_morphology()\n",
    "e.partition_clusters(T_vec)\n",
    "e.make_dist_array(trunc = 50)"
   ]
  },
  {
   "cell_type": "code",
   "execution_count": 47,
   "metadata": {
    "collapsed": false,
    "deletable": true,
    "editable": true
   },
   "outputs": [
    {
     "data": {
      "text/plain": [
       "-0.11369820464015985"
      ]
     },
     "execution_count": 47,
     "metadata": {},
     "output_type": "execute_result"
    }
   ],
   "source": [
    "e.logistic_log_likelihood(X, normalized = True, use_grad = False, **pars)"
   ]
  },
  {
   "cell_type": "code",
   "execution_count": 48,
   "metadata": {
    "collapsed": false,
    "deletable": true,
    "editable": true
   },
   "outputs": [
    {
     "name": "stdout",
     "output_type": "stream",
     "text": [
      "Optimization terminated successfully.\n",
      "         Current function value: 0.113648\n",
      "         Iterations: 107\n",
      "         Function evaluations: 113\n",
      "         Gradient evaluations: 113\n"
     ]
    }
   ],
   "source": [
    "pars_0 = {'alpha' : np.array([50, 80]),\n",
    "          'gamma' : np.array([3.5, 2.8]), \n",
    "          'beta'  : np.array([-2])\n",
    "       }\n",
    "\n",
    "pars_hat, ll_hat, h_inv = e.logistic_ML(X, pars_0, use_grad = True, opts = {'disp' : True})"
   ]
  },
  {
   "cell_type": "code",
   "execution_count": 50,
   "metadata": {
    "collapsed": false,
    "deletable": true,
    "editable": true
   },
   "outputs": [
    {
     "data": {
      "text/plain": [
       "array([ 139.3497,   30.3893,    0.9844,    2.8292,   -9.883 ])"
      ]
     },
     "execution_count": 50,
     "metadata": {},
     "output_type": "execute_result"
    }
   ],
   "source": [
    "np.set_printoptions(precision=4)\n",
    "pars_hat"
   ]
  },
  {
   "cell_type": "code",
   "execution_count": 43,
   "metadata": {
    "collapsed": false,
    "deletable": true,
    "editable": true
   },
   "outputs": [
    {
     "data": {
      "text/plain": [
       "<matplotlib.colorbar.Colorbar at 0x10c1aa250>"
      ]
     },
     "execution_count": 43,
     "metadata": {},
     "output_type": "execute_result"
    },
    {
     "data": {
      "image/png": "[encoded data removed]",
      "text/plain": [
       "<matplotlib.figure.Figure at 0x10bdde6d0>"
      ]
     },
     "metadata": {},
     "output_type": "display_data"
    }
   ],
   "source": [
    "plt.imshow(h_inv / np.nansum(np.isfinite(X)), interpolation='nearest')\n",
    "plt.colorbar()"
   ]
  },
  {
   "cell_type": "code",
   "execution_count": 51,
   "metadata": {
    "collapsed": false,
    "deletable": true,
    "editable": true
   },
   "outputs": [
    {
     "data": {
      "text/plain": [
       "array([[  2.17e+02,   8.52e+00,  -6.80e-01,   6.40e-01,  -7.96e+00],\n",
       "       [  8.52e+00,   8.65e+00,  -2.00e-02,   3.50e-01,  -2.60e-01],\n",
       "       [ -6.80e-01,  -2.00e-02,   0.00e+00,  -0.00e+00,   2.00e-02],\n",
       "       [  6.40e-01,   3.50e-01,  -0.00e+00,   2.00e-02,  -1.00e-02],\n",
       "       [ -7.96e+00,  -2.60e-01,   2.00e-02,  -1.00e-02,   3.10e-01]])"
      ]
     },
     "execution_count": 51,
     "metadata": {},
     "output_type": "execute_result"
    }
   ],
   "source": [
    "np.set_printoptions(precision=2)\n",
    "np.around(h_inv / np.nansum(np.isfinite(X)), 2)"
   ]
  },
  {
   "cell_type": "code",
   "execution_count": null,
   "metadata": {
    "collapsed": true
   },
   "outputs": [],
   "source": []
  }
 ],
 "metadata": {
  "kernelspec": {
   "display_name": "Python 2",
   "language": "python",
   "name": "python2"
  },
  "language_info": {
   "codemirror_mode": {
    "name": "ipython",
    "version": 2
   },
   "file_extension": ".py",
   "mimetype": "text/x-python",
   "name": "python",
   "nbconvert_exporter": "python",
   "pygments_lexer": "ipython2",
   "version": "2.7.11"
  }
 },
 "nbformat": 4,
 "nbformat_minor": 0
}
